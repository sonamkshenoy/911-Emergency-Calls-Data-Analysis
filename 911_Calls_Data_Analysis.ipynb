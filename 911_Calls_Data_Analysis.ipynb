{
  "nbformat": 4,
  "nbformat_minor": 0,
  "metadata": {
    "colab": {
      "name": "911 Calls Data Analysis.ipynb",
      "provenance": [],
      "collapsed_sections": [],
      "authorship_tag": "ABX9TyPQSfuPcZ8BD0OTWtrHTiL8"
    },
    "kernelspec": {
      "name": "python3",
      "display_name": "Python 3"
    }
  },
  "cells": [
    {
      "cell_type": "markdown",
      "metadata": {
        "id": "EYFrSIU8N3Ao",
        "colab_type": "text"
      },
      "source": [
        "# 911 Emergency Calls Data Analysis"
      ]
    },
    {
      "cell_type": "code",
      "metadata": {
        "id": "f1O0zlUntE4S",
        "colab_type": "code",
        "colab": {}
      },
      "source": [
        "import numpy as np\n",
        "import pandas as pd"
      ],
      "execution_count": 0,
      "outputs": []
    },
    {
      "cell_type": "code",
      "metadata": {
        "id": "sn5U7a3RuJ0-",
        "colab_type": "code",
        "colab": {}
      },
      "source": [
        "import matplotlib.pyplot as plt\n",
        "%matplotlib inline\n",
        "import seaborn as sns"
      ],
      "execution_count": 0,
      "outputs": []
    },
    {
      "cell_type": "code",
      "metadata": {
        "id": "s5AeYowkvQfb",
        "colab_type": "code",
        "colab": {}
      },
      "source": [
        "df = pd.read_csv(\"911.csv\")"
      ],
      "execution_count": 0,
      "outputs": []
    },
    {
      "cell_type": "code",
      "metadata": {
        "id": "-rGqSpmxwSn8",
        "colab_type": "code",
        "outputId": "93cba108-1d06-45f4-88ee-c482adc5975e",
        "colab": {
          "base_uri": "https://localhost:8080/",
          "height": 308
        }
      },
      "source": [
        "df.info()"
      ],
      "execution_count": 27,
      "outputs": [
        {
          "output_type": "stream",
          "text": [
            "<class 'pandas.core.frame.DataFrame'>\n",
            "RangeIndex: 99492 entries, 0 to 99491\n",
            "Data columns (total 9 columns):\n",
            " #   Column     Non-Null Count  Dtype  \n",
            "---  ------     --------------  -----  \n",
            " 0   lat        99492 non-null  float64\n",
            " 1   lng        99492 non-null  float64\n",
            " 2   desc       99492 non-null  object \n",
            " 3   zip        86637 non-null  float64\n",
            " 4   title      99492 non-null  object \n",
            " 5   timeStamp  99492 non-null  object \n",
            " 6   twp        99449 non-null  object \n",
            " 7   addr       98973 non-null  object \n",
            " 8   e          99492 non-null  int64  \n",
            "dtypes: float64(3), int64(1), object(5)\n",
            "memory usage: 6.8+ MB\n"
          ],
          "name": "stdout"
        }
      ]
    },
    {
      "cell_type": "code",
      "metadata": {
        "id": "KB6Z0F9wV_wF",
        "colab_type": "code",
        "outputId": "b74c2345-d6d0-4eb5-9d23-69337cf91139",
        "colab": {
          "base_uri": "https://localhost:8080/",
          "height": 293
        }
      },
      "source": [
        "df.head()"
      ],
      "execution_count": 28,
      "outputs": [
        {
          "output_type": "execute_result",
          "data": {
            "text/html": [
              "<div>\n",
              "<style scoped>\n",
              "    .dataframe tbody tr th:only-of-type {\n",
              "        vertical-align: middle;\n",
              "    }\n",
              "\n",
              "    .dataframe tbody tr th {\n",
              "        vertical-align: top;\n",
              "    }\n",
              "\n",
              "    .dataframe thead th {\n",
              "        text-align: right;\n",
              "    }\n",
              "</style>\n",
              "<table border=\"1\" class=\"dataframe\">\n",
              "  <thead>\n",
              "    <tr style=\"text-align: right;\">\n",
              "      <th></th>\n",
              "      <th>lat</th>\n",
              "      <th>lng</th>\n",
              "      <th>desc</th>\n",
              "      <th>zip</th>\n",
              "      <th>title</th>\n",
              "      <th>timeStamp</th>\n",
              "      <th>twp</th>\n",
              "      <th>addr</th>\n",
              "      <th>e</th>\n",
              "    </tr>\n",
              "  </thead>\n",
              "  <tbody>\n",
              "    <tr>\n",
              "      <th>0</th>\n",
              "      <td>40.297876</td>\n",
              "      <td>-75.581294</td>\n",
              "      <td>REINDEER CT &amp; DEAD END;  NEW HANOVER; Station ...</td>\n",
              "      <td>19525.0</td>\n",
              "      <td>EMS: BACK PAINS/INJURY</td>\n",
              "      <td>2015-12-10 17:40:00</td>\n",
              "      <td>NEW HANOVER</td>\n",
              "      <td>REINDEER CT &amp; DEAD END</td>\n",
              "      <td>1</td>\n",
              "    </tr>\n",
              "    <tr>\n",
              "      <th>1</th>\n",
              "      <td>40.258061</td>\n",
              "      <td>-75.264680</td>\n",
              "      <td>BRIAR PATH &amp; WHITEMARSH LN;  HATFIELD TOWNSHIP...</td>\n",
              "      <td>19446.0</td>\n",
              "      <td>EMS: DIABETIC EMERGENCY</td>\n",
              "      <td>2015-12-10 17:40:00</td>\n",
              "      <td>HATFIELD TOWNSHIP</td>\n",
              "      <td>BRIAR PATH &amp; WHITEMARSH LN</td>\n",
              "      <td>1</td>\n",
              "    </tr>\n",
              "    <tr>\n",
              "      <th>2</th>\n",
              "      <td>40.121182</td>\n",
              "      <td>-75.351975</td>\n",
              "      <td>HAWS AVE; NORRISTOWN; 2015-12-10 @ 14:39:21-St...</td>\n",
              "      <td>19401.0</td>\n",
              "      <td>Fire: GAS-ODOR/LEAK</td>\n",
              "      <td>2015-12-10 17:40:00</td>\n",
              "      <td>NORRISTOWN</td>\n",
              "      <td>HAWS AVE</td>\n",
              "      <td>1</td>\n",
              "    </tr>\n",
              "    <tr>\n",
              "      <th>3</th>\n",
              "      <td>40.116153</td>\n",
              "      <td>-75.343513</td>\n",
              "      <td>AIRY ST &amp; SWEDE ST;  NORRISTOWN; Station 308A;...</td>\n",
              "      <td>19401.0</td>\n",
              "      <td>EMS: CARDIAC EMERGENCY</td>\n",
              "      <td>2015-12-10 17:40:01</td>\n",
              "      <td>NORRISTOWN</td>\n",
              "      <td>AIRY ST &amp; SWEDE ST</td>\n",
              "      <td>1</td>\n",
              "    </tr>\n",
              "    <tr>\n",
              "      <th>4</th>\n",
              "      <td>40.251492</td>\n",
              "      <td>-75.603350</td>\n",
              "      <td>CHERRYWOOD CT &amp; DEAD END;  LOWER POTTSGROVE; S...</td>\n",
              "      <td>NaN</td>\n",
              "      <td>EMS: DIZZINESS</td>\n",
              "      <td>2015-12-10 17:40:01</td>\n",
              "      <td>LOWER POTTSGROVE</td>\n",
              "      <td>CHERRYWOOD CT &amp; DEAD END</td>\n",
              "      <td>1</td>\n",
              "    </tr>\n",
              "  </tbody>\n",
              "</table>\n",
              "</div>"
            ],
            "text/plain": [
              "         lat        lng  ...                        addr  e\n",
              "0  40.297876 -75.581294  ...      REINDEER CT & DEAD END  1\n",
              "1  40.258061 -75.264680  ...  BRIAR PATH & WHITEMARSH LN  1\n",
              "2  40.121182 -75.351975  ...                    HAWS AVE  1\n",
              "3  40.116153 -75.343513  ...          AIRY ST & SWEDE ST  1\n",
              "4  40.251492 -75.603350  ...    CHERRYWOOD CT & DEAD END  1\n",
              "\n",
              "[5 rows x 9 columns]"
            ]
          },
          "metadata": {
            "tags": []
          },
          "execution_count": 28
        }
      ]
    },
    {
      "cell_type": "code",
      "metadata": {
        "id": "nBcbIaOGWTAE",
        "colab_type": "code",
        "outputId": "6653920d-ff69-4dc4-cf29-4144deb408e6",
        "colab": {
          "base_uri": "https://localhost:8080/",
          "height": 126
        }
      },
      "source": [
        "df[\"zip\"].value_counts().head(5)"
      ],
      "execution_count": 29,
      "outputs": [
        {
          "output_type": "execute_result",
          "data": {
            "text/plain": [
              "19401.0    6979\n",
              "19464.0    6643\n",
              "19403.0    4854\n",
              "19446.0    4748\n",
              "19406.0    3174\n",
              "Name: zip, dtype: int64"
            ]
          },
          "metadata": {
            "tags": []
          },
          "execution_count": 29
        }
      ]
    },
    {
      "cell_type": "markdown",
      "metadata": {
        "id": "C9xrgRcSXaek",
        "colab_type": "text"
      },
      "source": [
        "Top 5 zipcodes to receive maximum 911 emergency calls"
      ]
    },
    {
      "cell_type": "code",
      "metadata": {
        "id": "GP3UYMLLWp_H",
        "colab_type": "code",
        "outputId": "3c121a0b-298e-4509-bb5d-15a47fa2a620",
        "colab": {
          "base_uri": "https://localhost:8080/",
          "height": 126
        }
      },
      "source": [
        "df[\"twp\"].value_counts().head(5)"
      ],
      "execution_count": 30,
      "outputs": [
        {
          "output_type": "execute_result",
          "data": {
            "text/plain": [
              "LOWER MERION    8443\n",
              "ABINGTON        5977\n",
              "NORRISTOWN      5890\n",
              "UPPER MERION    5227\n",
              "CHELTENHAM      4575\n",
              "Name: twp, dtype: int64"
            ]
          },
          "metadata": {
            "tags": []
          },
          "execution_count": 30
        }
      ]
    },
    {
      "cell_type": "markdown",
      "metadata": {
        "id": "Y9Llzz26Y8iK",
        "colab_type": "text"
      },
      "source": [
        "Top 5 townships to receive maximum 911 calls : Lower Merion, Abington, Norristown, Upper Merion, Cheltenham"
      ]
    },
    {
      "cell_type": "code",
      "metadata": {
        "id": "D5_GpQW7XjIm",
        "colab_type": "code",
        "outputId": "61377580-8a26-4e63-fc97-bf8611c4e204",
        "colab": {
          "base_uri": "https://localhost:8080/",
          "height": 35
        }
      },
      "source": [
        "df[\"title\"].nunique()\n",
        "# len(df[\"title\"].unique())"
      ],
      "execution_count": 31,
      "outputs": [
        {
          "output_type": "execute_result",
          "data": {
            "text/plain": [
              "110"
            ]
          },
          "metadata": {
            "tags": []
          },
          "execution_count": 31
        }
      ]
    },
    {
      "cell_type": "markdown",
      "metadata": {
        "id": "aBBLWYeXZGY_",
        "colab_type": "text"
      },
      "source": [
        "110 types of emergency cases"
      ]
    },
    {
      "cell_type": "code",
      "metadata": {
        "id": "On88LEj5YZq3",
        "colab_type": "code",
        "colab": {}
      },
      "source": [
        ""
      ],
      "execution_count": 0,
      "outputs": []
    },
    {
      "cell_type": "code",
      "metadata": {
        "id": "d27zOoRNZOus",
        "colab_type": "code",
        "outputId": "4f843643-89a8-4558-8c0e-7b51870d2669",
        "colab": {
          "base_uri": "https://localhost:8080/",
          "height": 126
        }
      },
      "source": [
        "df[\"title\"][:5]"
      ],
      "execution_count": 32,
      "outputs": [
        {
          "output_type": "execute_result",
          "data": {
            "text/plain": [
              "0     EMS: BACK PAINS/INJURY\n",
              "1    EMS: DIABETIC EMERGENCY\n",
              "2        Fire: GAS-ODOR/LEAK\n",
              "3     EMS: CARDIAC EMERGENCY\n",
              "4             EMS: DIZZINESS\n",
              "Name: title, dtype: object"
            ]
          },
          "metadata": {
            "tags": []
          },
          "execution_count": 32
        }
      ]
    },
    {
      "cell_type": "code",
      "metadata": {
        "id": "EV_R6SKxZSMx",
        "colab_type": "code",
        "colab": {}
      },
      "source": [
        "def getReason(reason):\n",
        "  return reason.split(\":\")[0]"
      ],
      "execution_count": 0,
      "outputs": []
    },
    {
      "cell_type": "code",
      "metadata": {
        "id": "dIoDjjvwZty-",
        "colab_type": "code",
        "outputId": "3eeb8a7a-6077-4d0f-b418-f5441bee52da",
        "colab": {
          "base_uri": "https://localhost:8080/",
          "height": 35
        }
      },
      "source": [
        "getReason(df[\"title\"][0])"
      ],
      "execution_count": 34,
      "outputs": [
        {
          "output_type": "execute_result",
          "data": {
            "text/plain": [
              "'EMS'"
            ]
          },
          "metadata": {
            "tags": []
          },
          "execution_count": 34
        }
      ]
    },
    {
      "cell_type": "code",
      "metadata": {
        "id": "sBJWwGmVZxFo",
        "colab_type": "code",
        "colab": {}
      },
      "source": [
        "df[\"reason\"] = df[\"title\"].apply(getReason)\n",
        "# df[\"reason\"] = df[\"title\"].apply(lambda x: x.split(\":\")[0])\n",
        "# In-place operation"
      ],
      "execution_count": 0,
      "outputs": []
    },
    {
      "cell_type": "markdown",
      "metadata": {
        "id": "wRCMW--gR2Fm",
        "colab_type": "text"
      },
      "source": [
        "### Cause of maximum calls"
      ]
    },
    {
      "cell_type": "markdown",
      "metadata": {
        "id": "A3cizIvgaWaB",
        "colab_type": "text"
      },
      "source": [
        "Finding main departments in charge of the calls:  \n",
        "*   EMS (emergency medical services)  \n",
        "*   Fire   \n",
        "*   Traffic"
      ]
    },
    {
      "cell_type": "code",
      "metadata": {
        "id": "-muvewTKZ6mw",
        "colab_type": "code",
        "outputId": "d81328d3-0dd0-4718-b7bc-766e37cfdc9a",
        "colab": {
          "base_uri": "https://localhost:8080/",
          "height": 310
        }
      },
      "source": [
        "df.head()"
      ],
      "execution_count": 36,
      "outputs": [
        {
          "output_type": "execute_result",
          "data": {
            "text/html": [
              "<div>\n",
              "<style scoped>\n",
              "    .dataframe tbody tr th:only-of-type {\n",
              "        vertical-align: middle;\n",
              "    }\n",
              "\n",
              "    .dataframe tbody tr th {\n",
              "        vertical-align: top;\n",
              "    }\n",
              "\n",
              "    .dataframe thead th {\n",
              "        text-align: right;\n",
              "    }\n",
              "</style>\n",
              "<table border=\"1\" class=\"dataframe\">\n",
              "  <thead>\n",
              "    <tr style=\"text-align: right;\">\n",
              "      <th></th>\n",
              "      <th>lat</th>\n",
              "      <th>lng</th>\n",
              "      <th>desc</th>\n",
              "      <th>zip</th>\n",
              "      <th>title</th>\n",
              "      <th>timeStamp</th>\n",
              "      <th>twp</th>\n",
              "      <th>addr</th>\n",
              "      <th>e</th>\n",
              "      <th>reason</th>\n",
              "    </tr>\n",
              "  </thead>\n",
              "  <tbody>\n",
              "    <tr>\n",
              "      <th>0</th>\n",
              "      <td>40.297876</td>\n",
              "      <td>-75.581294</td>\n",
              "      <td>REINDEER CT &amp; DEAD END;  NEW HANOVER; Station ...</td>\n",
              "      <td>19525.0</td>\n",
              "      <td>EMS: BACK PAINS/INJURY</td>\n",
              "      <td>2015-12-10 17:40:00</td>\n",
              "      <td>NEW HANOVER</td>\n",
              "      <td>REINDEER CT &amp; DEAD END</td>\n",
              "      <td>1</td>\n",
              "      <td>EMS</td>\n",
              "    </tr>\n",
              "    <tr>\n",
              "      <th>1</th>\n",
              "      <td>40.258061</td>\n",
              "      <td>-75.264680</td>\n",
              "      <td>BRIAR PATH &amp; WHITEMARSH LN;  HATFIELD TOWNSHIP...</td>\n",
              "      <td>19446.0</td>\n",
              "      <td>EMS: DIABETIC EMERGENCY</td>\n",
              "      <td>2015-12-10 17:40:00</td>\n",
              "      <td>HATFIELD TOWNSHIP</td>\n",
              "      <td>BRIAR PATH &amp; WHITEMARSH LN</td>\n",
              "      <td>1</td>\n",
              "      <td>EMS</td>\n",
              "    </tr>\n",
              "    <tr>\n",
              "      <th>2</th>\n",
              "      <td>40.121182</td>\n",
              "      <td>-75.351975</td>\n",
              "      <td>HAWS AVE; NORRISTOWN; 2015-12-10 @ 14:39:21-St...</td>\n",
              "      <td>19401.0</td>\n",
              "      <td>Fire: GAS-ODOR/LEAK</td>\n",
              "      <td>2015-12-10 17:40:00</td>\n",
              "      <td>NORRISTOWN</td>\n",
              "      <td>HAWS AVE</td>\n",
              "      <td>1</td>\n",
              "      <td>Fire</td>\n",
              "    </tr>\n",
              "    <tr>\n",
              "      <th>3</th>\n",
              "      <td>40.116153</td>\n",
              "      <td>-75.343513</td>\n",
              "      <td>AIRY ST &amp; SWEDE ST;  NORRISTOWN; Station 308A;...</td>\n",
              "      <td>19401.0</td>\n",
              "      <td>EMS: CARDIAC EMERGENCY</td>\n",
              "      <td>2015-12-10 17:40:01</td>\n",
              "      <td>NORRISTOWN</td>\n",
              "      <td>AIRY ST &amp; SWEDE ST</td>\n",
              "      <td>1</td>\n",
              "      <td>EMS</td>\n",
              "    </tr>\n",
              "    <tr>\n",
              "      <th>4</th>\n",
              "      <td>40.251492</td>\n",
              "      <td>-75.603350</td>\n",
              "      <td>CHERRYWOOD CT &amp; DEAD END;  LOWER POTTSGROVE; S...</td>\n",
              "      <td>NaN</td>\n",
              "      <td>EMS: DIZZINESS</td>\n",
              "      <td>2015-12-10 17:40:01</td>\n",
              "      <td>LOWER POTTSGROVE</td>\n",
              "      <td>CHERRYWOOD CT &amp; DEAD END</td>\n",
              "      <td>1</td>\n",
              "      <td>EMS</td>\n",
              "    </tr>\n",
              "  </tbody>\n",
              "</table>\n",
              "</div>"
            ],
            "text/plain": [
              "         lat        lng  ...  e  reason\n",
              "0  40.297876 -75.581294  ...  1     EMS\n",
              "1  40.258061 -75.264680  ...  1     EMS\n",
              "2  40.121182 -75.351975  ...  1    Fire\n",
              "3  40.116153 -75.343513  ...  1     EMS\n",
              "4  40.251492 -75.603350  ...  1     EMS\n",
              "\n",
              "[5 rows x 10 columns]"
            ]
          },
          "metadata": {
            "tags": []
          },
          "execution_count": 36
        }
      ]
    },
    {
      "cell_type": "code",
      "metadata": {
        "id": "zZj3Q0UdaMQ0",
        "colab_type": "code",
        "outputId": "2f563154-c9ef-4f00-bec6-359067a6ffd2",
        "colab": {
          "base_uri": "https://localhost:8080/",
          "height": 90
        }
      },
      "source": [
        "df[\"reason\"].value_counts()"
      ],
      "execution_count": 37,
      "outputs": [
        {
          "output_type": "execute_result",
          "data": {
            "text/plain": [
              "EMS        48877\n",
              "Traffic    35695\n",
              "Fire       14920\n",
              "Name: reason, dtype: int64"
            ]
          },
          "metadata": {
            "tags": []
          },
          "execution_count": 37
        }
      ]
    },
    {
      "cell_type": "markdown",
      "metadata": {
        "id": "z7acWHm_bOD2",
        "colab_type": "text"
      },
      "source": [
        "Most common reason for 911 calls is EMS."
      ]
    },
    {
      "cell_type": "code",
      "metadata": {
        "id": "qfsBIxCea9X_",
        "colab_type": "code",
        "colab": {}
      },
      "source": [
        ""
      ],
      "execution_count": 0,
      "outputs": []
    },
    {
      "cell_type": "code",
      "metadata": {
        "id": "_YEkjOLhbUXU",
        "colab_type": "code",
        "outputId": "82f7fbca-66b0-42ef-dc04-a961bdbd21f1",
        "colab": {
          "base_uri": "https://localhost:8080/",
          "height": 297
        }
      },
      "source": [
        "sns.countplot(df[\"reason\"]) # Only need to pass the column, it counts by itself, don't need to pass count\n",
        "# sns.countplot(x='reason', data = df) also correct\n",
        "# Takes X axis as the index of the series (since df[\"reason\"] gives series) automatically"
      ],
      "execution_count": 38,
      "outputs": [
        {
          "output_type": "execute_result",
          "data": {
            "text/plain": [
              "<matplotlib.axes._subplots.AxesSubplot at 0x7f1189a34cf8>"
            ]
          },
          "metadata": {
            "tags": []
          },
          "execution_count": 38
        },
        {
          "output_type": "display_data",
          "data": {
            "image/png": "[encoded data removed]",
            "text/plain": [
              "<Figure size 432x288 with 1 Axes>"
            ]
          },
          "metadata": {
            "tags": [],
            "needs_background": "light"
          }
        }
      ]
    },
    {
      "cell_type": "code",
      "metadata": {
        "id": "SDqKsprgbUTN",
        "colab_type": "code",
        "outputId": "0c1c4b4b-a104-4761-b256-1936e09e78d7",
        "colab": {
          "base_uri": "https://localhost:8080/",
          "height": 162
        }
      },
      "source": [
        "df[df[\"reason\"]==\"Traffic\"][\"title\"].value_counts()"
      ],
      "execution_count": 39,
      "outputs": [
        {
          "output_type": "execute_result",
          "data": {
            "text/plain": [
              "Traffic: VEHICLE ACCIDENT -             23066\n",
              "Traffic: DISABLED VEHICLE -              7702\n",
              "Traffic: ROAD OBSTRUCTION -              3144\n",
              "Traffic: HAZARDOUS ROAD CONDITIONS -     1086\n",
              "Traffic: VEHICLE FIRE -                   553\n",
              "Traffic: VEHICLE LEAKING FUEL -            77\n",
              "Traffic: DEBRIS/FLUIDS ON HIGHWAY -        67\n",
              "Name: title, dtype: int64"
            ]
          },
          "metadata": {
            "tags": []
          },
          "execution_count": 39
        }
      ]
    },
    {
      "cell_type": "markdown",
      "metadata": {
        "id": "tP_JO8YqzaqV",
        "colab_type": "text"
      },
      "source": [
        "Shows all kinds of traffic emergencies, calls were made for.  \n",
        "Maximum cases are those of vehicle accidents, followed by disabled vehicle, road obstruction and risky road conditions."
      ]
    },
    {
      "cell_type": "code",
      "metadata": {
        "id": "rgMdZS2GzvcC",
        "colab_type": "code",
        "outputId": "b90d7866-e968-405a-9fbc-968574410f2f",
        "colab": {
          "base_uri": "https://localhost:8080/",
          "height": 217
        }
      },
      "source": [
        "df[df[\"reason\"]==\"EMS\"][\"title\"].value_counts()[:10]"
      ],
      "execution_count": 40,
      "outputs": [
        {
          "output_type": "execute_result",
          "data": {
            "text/plain": [
              "EMS: RESPIRATORY EMERGENCY        5112\n",
              "EMS: CARDIAC EMERGENCY            5012\n",
              "EMS: FALL VICTIM                  4863\n",
              "EMS: VEHICLE ACCIDENT             3935\n",
              "EMS: SUBJECT IN PAIN              2687\n",
              "EMS: HEAD INJURY                  2631\n",
              "EMS: UNKNOWN MEDICAL EMERGENCY    1873\n",
              "EMS: SYNCOPAL EPISODE             1717\n",
              "EMS: SEIZURES                     1630\n",
              "EMS: GENERAL WEAKNESS             1464\n",
              "Name: title, dtype: int64"
            ]
          },
          "metadata": {
            "tags": []
          },
          "execution_count": 40
        }
      ]
    },
    {
      "cell_type": "markdown",
      "metadata": {
        "id": "nS_0Qwgdz0a5",
        "colab_type": "text"
      },
      "source": [
        "Top reasons for EMS calls: Respiratory emergency, cardiac emergency, fall victim, vehicle accident, subject in pain, head injury"
      ]
    },
    {
      "cell_type": "code",
      "metadata": {
        "id": "85O3regZ0KD0",
        "colab_type": "code",
        "outputId": "272cb2ea-2975-4988-ff24-6204aeb2b133",
        "colab": {
          "base_uri": "https://localhost:8080/",
          "height": 217
        }
      },
      "source": [
        "df[df[\"reason\"]==\"Fire\"][\"title\"].value_counts()[:10]"
      ],
      "execution_count": 41,
      "outputs": [
        {
          "output_type": "execute_result",
          "data": {
            "text/plain": [
              "Fire: FIRE ALARM                  5496\n",
              "Fire: VEHICLE ACCIDENT            1638\n",
              "Fire: FIRE INVESTIGATION          1460\n",
              "Fire: GAS-ODOR/LEAK               1028\n",
              "Fire: BUILDING FIRE                807\n",
              "Fire: FIRE SPECIAL SERVICE         666\n",
              "Fire: ELECTRICAL FIRE OUTSIDE      622\n",
              "Fire: CARBON MONOXIDE DETECTOR     575\n",
              "Fire: VEHICLE FIRE                 516\n",
              "Fire: WOODS/FIELD FIRE             514\n",
              "Name: title, dtype: int64"
            ]
          },
          "metadata": {
            "tags": []
          },
          "execution_count": 41
        }
      ]
    },
    {
      "cell_type": "markdown",
      "metadata": {
        "id": "ghOEt8nFTRmv",
        "colab_type": "text"
      },
      "source": [
        "### Time-analysis of calls"
      ]
    },
    {
      "cell_type": "code",
      "metadata": {
        "id": "wPzWHY6CbURG",
        "colab_type": "code",
        "outputId": "90c728f1-a157-474e-c884-cf33f6e6cb0b",
        "colab": {
          "base_uri": "https://localhost:8080/",
          "height": 35
        }
      },
      "source": [
        "type(df[\"timeStamp\"].iloc[1])\n",
        "# extract first row of the series\n",
        "# Not df[\"timeStamp\"].dtype"
      ],
      "execution_count": 42,
      "outputs": [
        {
          "output_type": "execute_result",
          "data": {
            "text/plain": [
              "str"
            ]
          },
          "metadata": {
            "tags": []
          },
          "execution_count": 42
        }
      ]
    },
    {
      "cell_type": "code",
      "metadata": {
        "id": "6djd-g_NdvQP",
        "colab_type": "code",
        "colab": {}
      },
      "source": [
        "df[\"timeStamp\"] = pd.to_datetime(df[\"timeStamp\"])"
      ],
      "execution_count": 0,
      "outputs": []
    },
    {
      "cell_type": "markdown",
      "metadata": {
        "id": "l26LCOd1fPsY",
        "colab_type": "text"
      },
      "source": [
        "Convert time from string to timestamp"
      ]
    },
    {
      "cell_type": "code",
      "metadata": {
        "id": "p_7QHpDZfBJy",
        "colab_type": "code",
        "outputId": "424c18c7-122a-49e9-a6f3-17b92d1132cf",
        "colab": {
          "base_uri": "https://localhost:8080/",
          "height": 35
        }
      },
      "source": [
        "type(df[\"timeStamp\"].iloc[1])"
      ],
      "execution_count": 44,
      "outputs": [
        {
          "output_type": "execute_result",
          "data": {
            "text/plain": [
              "pandas._libs.tslibs.timestamps.Timestamp"
            ]
          },
          "metadata": {
            "tags": []
          },
          "execution_count": 44
        }
      ]
    },
    {
      "cell_type": "markdown",
      "metadata": {
        "id": "zX02_AWmfaWg",
        "colab_type": "text"
      },
      "source": [
        "Split to 3 columns - hour, month, day of week"
      ]
    },
    {
      "cell_type": "code",
      "metadata": {
        "id": "0BFC4M9RfJTG",
        "colab_type": "code",
        "colab": {}
      },
      "source": [
        "time = df[\"timeStamp\"].iloc[0]"
      ],
      "execution_count": 0,
      "outputs": []
    },
    {
      "cell_type": "code",
      "metadata": {
        "id": "bFj3kto4gd69",
        "colab_type": "code",
        "outputId": "5bee24eb-d6cb-4a0d-9073-5a5388ee70d8",
        "colab": {
          "base_uri": "https://localhost:8080/",
          "height": 72
        }
      },
      "source": [
        "print(\"Day of week\", time.dayofweek)\n",
        "print(\"Hour\",time.hour)\n",
        "print(\"Month\", time.month)"
      ],
      "execution_count": 46,
      "outputs": [
        {
          "output_type": "stream",
          "text": [
            "Day of week 3\n",
            "Hour 17\n",
            "Month 12\n"
          ],
          "name": "stdout"
        }
      ]
    },
    {
      "cell_type": "code",
      "metadata": {
        "id": "mKHpzMtdfjQF",
        "colab_type": "code",
        "colab": {}
      },
      "source": [
        "dayOfWeek = df[\"timeStamp\"].apply(lambda x: x.dayofweek)\n",
        "hour = df[\"timeStamp\"].apply(lambda x: x.hour)\n",
        "month = df[\"timeStamp\"].apply(lambda x: x.month)"
      ],
      "execution_count": 0,
      "outputs": []
    },
    {
      "cell_type": "code",
      "metadata": {
        "id": "zMOS9KLhhouf",
        "colab_type": "code",
        "outputId": "8dd0cfcd-4237-4f1a-a76d-f4282d18bfef",
        "colab": {
          "base_uri": "https://localhost:8080/",
          "height": 235
        }
      },
      "source": [
        "dayOfWeek"
      ],
      "execution_count": 48,
      "outputs": [
        {
          "output_type": "execute_result",
          "data": {
            "text/plain": [
              "0        3\n",
              "1        3\n",
              "2        3\n",
              "3        3\n",
              "4        3\n",
              "        ..\n",
              "99487    2\n",
              "99488    2\n",
              "99489    2\n",
              "99490    2\n",
              "99491    2\n",
              "Name: timeStamp, Length: 99492, dtype: int64"
            ]
          },
          "metadata": {
            "tags": []
          },
          "execution_count": 48
        }
      ]
    },
    {
      "cell_type": "code",
      "metadata": {
        "id": "0XLyEWkKhvBp",
        "colab_type": "code",
        "colab": {}
      },
      "source": [
        "def convert(x):\n",
        "\n",
        "  days = dict()\n",
        "  days = {0:\"Mon\", 1:\"Tue\", 2:\"Wed\", 3:\"Thu\", 4:\"Fri\", 5:\"Sat\", 6:\"Sun\"}\n",
        "  return days[x]\n",
        "  \n",
        "  # if(x==0):\n",
        "  #   return \"Mon\"\n",
        "  # elif(x==1):\n",
        "  #   return \"Tue\"\n",
        "  # elif(x==2):\n",
        "  #   return \"Wed\"\n",
        "  # elif(x==3):\n",
        "  #   return \"Thu\"\n",
        "  # elif(x==4):\n",
        "  #   return \"Fri\"\n",
        "  # elif(x==5):\n",
        "  #   return \"Sat\"\n",
        "  # else:\n",
        "  #   return \"Sun\"\n",
        "    \n",
        "dayOfWeek = pd.Series(map(convert, dayOfWeek))"
      ],
      "execution_count": 0,
      "outputs": []
    },
    {
      "cell_type": "code",
      "metadata": {
        "id": "UMfLQcIpiO7W",
        "colab_type": "code",
        "outputId": "3900255e-c2a0-4fb0-c2d0-7819ee982981",
        "colab": {
          "base_uri": "https://localhost:8080/",
          "height": 235
        }
      },
      "source": [
        "dayOfWeek"
      ],
      "execution_count": 50,
      "outputs": [
        {
          "output_type": "execute_result",
          "data": {
            "text/plain": [
              "0        Thu\n",
              "1        Thu\n",
              "2        Thu\n",
              "3        Thu\n",
              "4        Thu\n",
              "        ... \n",
              "99487    Wed\n",
              "99488    Wed\n",
              "99489    Wed\n",
              "99490    Wed\n",
              "99491    Wed\n",
              "Length: 99492, dtype: object"
            ]
          },
          "metadata": {
            "tags": []
          },
          "execution_count": 50
        }
      ]
    },
    {
      "cell_type": "code",
      "metadata": {
        "id": "lsTj1Hc0ig2M",
        "colab_type": "code",
        "colab": {}
      },
      "source": [
        "df[\"dayOfWeek\"] = dayOfWeek\n",
        "df[\"month\"] = month\n",
        "df[\"hour\"] = hour"
      ],
      "execution_count": 0,
      "outputs": []
    },
    {
      "cell_type": "code",
      "metadata": {
        "id": "2LiUfpyhjJRa",
        "colab_type": "code",
        "outputId": "7675625d-e19d-4f61-c82a-eb22eb7826f8",
        "colab": {
          "base_uri": "https://localhost:8080/",
          "height": 297
        }
      },
      "source": [
        "sns.countplot(x = \"dayOfWeek\", data = df)"
      ],
      "execution_count": 52,
      "outputs": [
        {
          "output_type": "execute_result",
          "data": {
            "text/plain": [
              "<matplotlib.axes._subplots.AxesSubplot at 0x7f118b86bb70>"
            ]
          },
          "metadata": {
            "tags": []
          },
          "execution_count": 52
        },
        {
          "output_type": "display_data",
          "data": {
            "image/png": "[encoded data removed]",
            "text/plain": [
              "<Figure size 432x288 with 1 Axes>"
            ]
          },
          "metadata": {
            "tags": [],
            "needs_background": "light"
          }
        }
      ]
    },
    {
      "cell_type": "markdown",
      "metadata": {
        "id": "g5z9n7TBjqCz",
        "colab_type": "text"
      },
      "source": [
        "Minimum cases on Sunday. Saturday has fewer cases too. Thus the number of emergency calls are less on weekends.  \n",
        "All other days have more or less the same number of calls."
      ]
    },
    {
      "cell_type": "code",
      "metadata": {
        "id": "0GgC2DnrjYyG",
        "colab_type": "code",
        "outputId": "f9aa7abe-9bc1-4264-ba71-d489524198de",
        "colab": {
          "base_uri": "https://localhost:8080/",
          "height": 297
        }
      },
      "source": [
        "sns.countplot(x = \"dayOfWeek\", hue=\"reason\", data=df)\n",
        "# Therefore 3d plot, since 3rd dimension is the reason"
      ],
      "execution_count": 53,
      "outputs": [
        {
          "output_type": "execute_result",
          "data": {
            "text/plain": [
              "<matplotlib.axes._subplots.AxesSubplot at 0x7f118996f400>"
            ]
          },
          "metadata": {
            "tags": []
          },
          "execution_count": 53
        },
        {
          "output_type": "display_data",
          "data": {
            "image/png": "[encoded data removed]",
            "text/plain": [
              "<Figure size 432x288 with 1 Axes>"
            ]
          },
          "metadata": {
            "tags": [],
            "needs_background": "light"
          }
        }
      ]
    },
    {
      "cell_type": "markdown",
      "metadata": {
        "id": "34jjPRtJlM0P",
        "colab_type": "text"
      },
      "source": [
        "Number of fire cases are the least, while that of the EMS the most on any day of the week.  \n",
        "Traffic is least on Sunday (lesser on weekends) and maximum on Tuesday.  "
      ]
    },
    {
      "cell_type": "code",
      "metadata": {
        "id": "0X6NYRVrkPV-",
        "colab_type": "code",
        "outputId": "368a8932-a3c9-4408-fceb-a6ee1086f731",
        "colab": {
          "base_uri": "https://localhost:8080/",
          "height": 297
        }
      },
      "source": [
        "sns.countplot(x = \"month\", hue=\"reason\", data=df)"
      ],
      "execution_count": 54,
      "outputs": [
        {
          "output_type": "execute_result",
          "data": {
            "text/plain": [
              "<matplotlib.axes._subplots.AxesSubplot at 0x7f1189974080>"
            ]
          },
          "metadata": {
            "tags": []
          },
          "execution_count": 54
        },
        {
          "output_type": "display_data",
          "data": {
            "image/png": "[encoded data removed]",
            "text/plain": [
              "<Figure size 432x288 with 1 Axes>"
            ]
          },
          "metadata": {
            "tags": [],
            "needs_background": "light"
          }
        }
      ]
    },
    {
      "cell_type": "code",
      "metadata": {
        "id": "cmIFCFYHlkmJ",
        "colab_type": "code",
        "outputId": "a7de99c9-05ef-498e-d5c8-d1547ce16c7a",
        "colab": {
          "base_uri": "https://localhost:8080/",
          "height": 35
        }
      },
      "source": [
        "df[\"month\"].unique()"
      ],
      "execution_count": 55,
      "outputs": [
        {
          "output_type": "execute_result",
          "data": {
            "text/plain": [
              "array([12,  1,  2,  3,  4,  5,  6,  7,  8])"
            ]
          },
          "metadata": {
            "tags": []
          },
          "execution_count": 55
        }
      ]
    },
    {
      "cell_type": "markdown",
      "metadata": {
        "id": "DyA5nS6tnf_C",
        "colab_type": "text"
      },
      "source": [
        "Note that the months: 9, 10, 11 are not present in the data. This means that the number of calls during these months (September, October, November) in the data we have are zero."
      ]
    },
    {
      "cell_type": "code",
      "metadata": {
        "id": "_QD-tXHInevK",
        "colab_type": "code",
        "colab": {}
      },
      "source": [
        ""
      ],
      "execution_count": 0,
      "outputs": []
    },
    {
      "cell_type": "code",
      "metadata": {
        "id": "YnmqTWd_n3ns",
        "colab_type": "code",
        "colab": {}
      },
      "source": [
        "newdf = df.groupby(\"month\").count()"
      ],
      "execution_count": 0,
      "outputs": []
    },
    {
      "cell_type": "code",
      "metadata": {
        "id": "s_bZyCscn5fV",
        "colab_type": "code",
        "outputId": "cfa9bf81-fc26-47cc-b9bc-5e6e2e9c35c9",
        "colab": {
          "base_uri": "https://localhost:8080/",
          "height": 237
        }
      },
      "source": [
        "newdf.head()"
      ],
      "execution_count": 57,
      "outputs": [
        {
          "output_type": "execute_result",
          "data": {
            "text/html": [
              "<div>\n",
              "<style scoped>\n",
              "    .dataframe tbody tr th:only-of-type {\n",
              "        vertical-align: middle;\n",
              "    }\n",
              "\n",
              "    .dataframe tbody tr th {\n",
              "        vertical-align: top;\n",
              "    }\n",
              "\n",
              "    .dataframe thead th {\n",
              "        text-align: right;\n",
              "    }\n",
              "</style>\n",
              "<table border=\"1\" class=\"dataframe\">\n",
              "  <thead>\n",
              "    <tr style=\"text-align: right;\">\n",
              "      <th></th>\n",
              "      <th>lat</th>\n",
              "      <th>lng</th>\n",
              "      <th>desc</th>\n",
              "      <th>zip</th>\n",
              "      <th>title</th>\n",
              "      <th>timeStamp</th>\n",
              "      <th>twp</th>\n",
              "      <th>addr</th>\n",
              "      <th>e</th>\n",
              "      <th>reason</th>\n",
              "      <th>dayOfWeek</th>\n",
              "      <th>hour</th>\n",
              "    </tr>\n",
              "    <tr>\n",
              "      <th>month</th>\n",
              "      <th></th>\n",
              "      <th></th>\n",
              "      <th></th>\n",
              "      <th></th>\n",
              "      <th></th>\n",
              "      <th></th>\n",
              "      <th></th>\n",
              "      <th></th>\n",
              "      <th></th>\n",
              "      <th></th>\n",
              "      <th></th>\n",
              "      <th></th>\n",
              "    </tr>\n",
              "  </thead>\n",
              "  <tbody>\n",
              "    <tr>\n",
              "      <th>1</th>\n",
              "      <td>13205</td>\n",
              "      <td>13205</td>\n",
              "      <td>13205</td>\n",
              "      <td>11527</td>\n",
              "      <td>13205</td>\n",
              "      <td>13205</td>\n",
              "      <td>13203</td>\n",
              "      <td>13096</td>\n",
              "      <td>13205</td>\n",
              "      <td>13205</td>\n",
              "      <td>13205</td>\n",
              "      <td>13205</td>\n",
              "    </tr>\n",
              "    <tr>\n",
              "      <th>2</th>\n",
              "      <td>11467</td>\n",
              "      <td>11467</td>\n",
              "      <td>11467</td>\n",
              "      <td>9930</td>\n",
              "      <td>11467</td>\n",
              "      <td>11467</td>\n",
              "      <td>11465</td>\n",
              "      <td>11396</td>\n",
              "      <td>11467</td>\n",
              "      <td>11467</td>\n",
              "      <td>11467</td>\n",
              "      <td>11467</td>\n",
              "    </tr>\n",
              "    <tr>\n",
              "      <th>3</th>\n",
              "      <td>11101</td>\n",
              "      <td>11101</td>\n",
              "      <td>11101</td>\n",
              "      <td>9755</td>\n",
              "      <td>11101</td>\n",
              "      <td>11101</td>\n",
              "      <td>11092</td>\n",
              "      <td>11059</td>\n",
              "      <td>11101</td>\n",
              "      <td>11101</td>\n",
              "      <td>11101</td>\n",
              "      <td>11101</td>\n",
              "    </tr>\n",
              "    <tr>\n",
              "      <th>4</th>\n",
              "      <td>11326</td>\n",
              "      <td>11326</td>\n",
              "      <td>11326</td>\n",
              "      <td>9895</td>\n",
              "      <td>11326</td>\n",
              "      <td>11326</td>\n",
              "      <td>11323</td>\n",
              "      <td>11283</td>\n",
              "      <td>11326</td>\n",
              "      <td>11326</td>\n",
              "      <td>11326</td>\n",
              "      <td>11326</td>\n",
              "    </tr>\n",
              "    <tr>\n",
              "      <th>5</th>\n",
              "      <td>11423</td>\n",
              "      <td>11423</td>\n",
              "      <td>11423</td>\n",
              "      <td>9946</td>\n",
              "      <td>11423</td>\n",
              "      <td>11423</td>\n",
              "      <td>11420</td>\n",
              "      <td>11378</td>\n",
              "      <td>11423</td>\n",
              "      <td>11423</td>\n",
              "      <td>11423</td>\n",
              "      <td>11423</td>\n",
              "    </tr>\n",
              "  </tbody>\n",
              "</table>\n",
              "</div>"
            ],
            "text/plain": [
              "         lat    lng   desc    zip  ...      e  reason  dayOfWeek   hour\n",
              "month                              ...                                 \n",
              "1      13205  13205  13205  11527  ...  13205   13205      13205  13205\n",
              "2      11467  11467  11467   9930  ...  11467   11467      11467  11467\n",
              "3      11101  11101  11101   9755  ...  11101   11101      11101  11101\n",
              "4      11326  11326  11326   9895  ...  11326   11326      11326  11326\n",
              "5      11423  11423  11423   9946  ...  11423   11423      11423  11423\n",
              "\n",
              "[5 rows x 12 columns]"
            ]
          },
          "metadata": {
            "tags": []
          },
          "execution_count": 57
        }
      ]
    },
    {
      "cell_type": "markdown",
      "metadata": {
        "id": "p49Mm0FmoM7z",
        "colab_type": "text"
      },
      "source": [
        "Maximum number of calls in January, followed by February, March, April and May."
      ]
    },
    {
      "cell_type": "code",
      "metadata": {
        "id": "JNbdo_OFn-Ku",
        "colab_type": "code",
        "outputId": "1f1ebc96-a5f5-4739-f37a-4809b0b52ce5",
        "colab": {
          "base_uri": "https://localhost:8080/",
          "height": 297
        }
      },
      "source": [
        "# Any column is fine, all have the same values since each just gives the count of the number of records that have that specific month\n",
        "newdf[\"twp\"].plot()"
      ],
      "execution_count": 58,
      "outputs": [
        {
          "output_type": "execute_result",
          "data": {
            "text/plain": [
              "<matplotlib.axes._subplots.AxesSubplot at 0x7f11897a6208>"
            ]
          },
          "metadata": {
            "tags": []
          },
          "execution_count": 58
        },
        {
          "output_type": "display_data",
          "data": {
            "image/png": "[encoded data removed]",
            "text/plain": [
              "<Figure size 432x288 with 1 Axes>"
            ]
          },
          "metadata": {
            "tags": [],
            "needs_background": "light"
          }
        }
      ]
    },
    {
      "cell_type": "code",
      "metadata": {
        "id": "CHnr9Fs_pBpH",
        "colab_type": "code",
        "outputId": "3de2c8dc-7a62-49b7-e6a1-eab446a79ced",
        "colab": {
          "base_uri": "https://localhost:8080/",
          "height": 387
        }
      },
      "source": [
        "sns.lmplot(x='month', y='twp', data = newdf.reset_index())"
      ],
      "execution_count": 59,
      "outputs": [
        {
          "output_type": "execute_result",
          "data": {
            "text/plain": [
              "<seaborn.axisgrid.FacetGrid at 0x7f118978d780>"
            ]
          },
          "metadata": {
            "tags": []
          },
          "execution_count": 59
        },
        {
          "output_type": "display_data",
          "data": {
            "image/png": "[encoded data removed]",
            "text/plain": [
              "<Figure size 360x360 with 1 Axes>"
            ]
          },
          "metadata": {
            "tags": [],
            "needs_background": "light"
          }
        }
      ]
    },
    {
      "cell_type": "code",
      "metadata": {
        "id": "JU_UukX-pwf0",
        "colab_type": "code",
        "colab": {}
      },
      "source": [
        "df[\"date\"] = df[\"timeStamp\"].apply(lambda x: x.date())"
      ],
      "execution_count": 0,
      "outputs": []
    },
    {
      "cell_type": "code",
      "metadata": {
        "id": "MWZFYSAfp99J",
        "colab_type": "code",
        "outputId": "99aa713f-dfec-4ebd-e017-41181cbb3c94",
        "colab": {
          "base_uri": "https://localhost:8080/",
          "height": 406
        }
      },
      "source": [
        "plt.figure(figsize = (12,6))\n",
        "df.groupby(\"date\").count()[\"twp\"].plot.line()\n",
        "# Just normal plot (line)\n",
        "# plt.tight_layout()"
      ],
      "execution_count": 61,
      "outputs": [
        {
          "output_type": "execute_result",
          "data": {
            "text/plain": [
              "<matplotlib.axes._subplots.AxesSubplot at 0x7f118b802cf8>"
            ]
          },
          "metadata": {
            "tags": []
          },
          "execution_count": 61
        },
        {
          "output_type": "display_data",
          "data": {
            "image/png": "[encoded data removed]",
            "text/plain": [
              "<Figure size 864x432 with 1 Axes>"
            ]
          },
          "metadata": {
            "tags": [],
            "needs_background": "light"
          }
        }
      ]
    },
    {
      "cell_type": "markdown",
      "metadata": {
        "id": "HSQDx3OzQpFl",
        "colab_type": "text"
      },
      "source": [
        "Number of calls are maximum during mid-January, 2016"
      ]
    },
    {
      "cell_type": "code",
      "metadata": {
        "id": "qUlQum-hqRln",
        "colab_type": "code",
        "outputId": "2e421e54-32fb-4b04-a571-f795a60a7ed9",
        "colab": {
          "base_uri": "https://localhost:8080/",
          "height": 455
        }
      },
      "source": [
        "df[df[\"reason\"]==\"Fire\"].groupby(\"date\").count()\n",
        "# Have to specify .count() i.e. which attribute you want to access in the grouped data\n",
        "# .groupby just brings them together will all kinds of attributes: count, mean, sum, std, etc"
      ],
      "execution_count": 62,
      "outputs": [
        {
          "output_type": "execute_result",
          "data": {
            "text/html": [
              "<div>\n",
              "<style scoped>\n",
              "    .dataframe tbody tr th:only-of-type {\n",
              "        vertical-align: middle;\n",
              "    }\n",
              "\n",
              "    .dataframe tbody tr th {\n",
              "        vertical-align: top;\n",
              "    }\n",
              "\n",
              "    .dataframe thead th {\n",
              "        text-align: right;\n",
              "    }\n",
              "</style>\n",
              "<table border=\"1\" class=\"dataframe\">\n",
              "  <thead>\n",
              "    <tr style=\"text-align: right;\">\n",
              "      <th></th>\n",
              "      <th>lat</th>\n",
              "      <th>lng</th>\n",
              "      <th>desc</th>\n",
              "      <th>zip</th>\n",
              "      <th>title</th>\n",
              "      <th>timeStamp</th>\n",
              "      <th>twp</th>\n",
              "      <th>addr</th>\n",
              "      <th>e</th>\n",
              "      <th>reason</th>\n",
              "      <th>dayOfWeek</th>\n",
              "      <th>month</th>\n",
              "      <th>hour</th>\n",
              "    </tr>\n",
              "    <tr>\n",
              "      <th>date</th>\n",
              "      <th></th>\n",
              "      <th></th>\n",
              "      <th></th>\n",
              "      <th></th>\n",
              "      <th></th>\n",
              "      <th></th>\n",
              "      <th></th>\n",
              "      <th></th>\n",
              "      <th></th>\n",
              "      <th></th>\n",
              "      <th></th>\n",
              "      <th></th>\n",
              "      <th></th>\n",
              "    </tr>\n",
              "  </thead>\n",
              "  <tbody>\n",
              "    <tr>\n",
              "      <th>2015-12-10</th>\n",
              "      <td>15</td>\n",
              "      <td>15</td>\n",
              "      <td>15</td>\n",
              "      <td>13</td>\n",
              "      <td>15</td>\n",
              "      <td>15</td>\n",
              "      <td>15</td>\n",
              "      <td>15</td>\n",
              "      <td>15</td>\n",
              "      <td>15</td>\n",
              "      <td>15</td>\n",
              "      <td>15</td>\n",
              "      <td>15</td>\n",
              "    </tr>\n",
              "    <tr>\n",
              "      <th>2015-12-11</th>\n",
              "      <td>69</td>\n",
              "      <td>69</td>\n",
              "      <td>69</td>\n",
              "      <td>59</td>\n",
              "      <td>69</td>\n",
              "      <td>69</td>\n",
              "      <td>68</td>\n",
              "      <td>68</td>\n",
              "      <td>69</td>\n",
              "      <td>69</td>\n",
              "      <td>69</td>\n",
              "      <td>69</td>\n",
              "      <td>69</td>\n",
              "    </tr>\n",
              "    <tr>\n",
              "      <th>2015-12-12</th>\n",
              "      <td>68</td>\n",
              "      <td>68</td>\n",
              "      <td>68</td>\n",
              "      <td>53</td>\n",
              "      <td>68</td>\n",
              "      <td>68</td>\n",
              "      <td>68</td>\n",
              "      <td>68</td>\n",
              "      <td>68</td>\n",
              "      <td>68</td>\n",
              "      <td>68</td>\n",
              "      <td>68</td>\n",
              "      <td>68</td>\n",
              "    </tr>\n",
              "    <tr>\n",
              "      <th>2015-12-13</th>\n",
              "      <td>51</td>\n",
              "      <td>51</td>\n",
              "      <td>51</td>\n",
              "      <td>48</td>\n",
              "      <td>51</td>\n",
              "      <td>51</td>\n",
              "      <td>51</td>\n",
              "      <td>51</td>\n",
              "      <td>51</td>\n",
              "      <td>51</td>\n",
              "      <td>51</td>\n",
              "      <td>51</td>\n",
              "      <td>51</td>\n",
              "    </tr>\n",
              "    <tr>\n",
              "      <th>2015-12-14</th>\n",
              "      <td>39</td>\n",
              "      <td>39</td>\n",
              "      <td>39</td>\n",
              "      <td>36</td>\n",
              "      <td>39</td>\n",
              "      <td>39</td>\n",
              "      <td>38</td>\n",
              "      <td>39</td>\n",
              "      <td>39</td>\n",
              "      <td>39</td>\n",
              "      <td>39</td>\n",
              "      <td>39</td>\n",
              "      <td>39</td>\n",
              "    </tr>\n",
              "    <tr>\n",
              "      <th>...</th>\n",
              "      <td>...</td>\n",
              "      <td>...</td>\n",
              "      <td>...</td>\n",
              "      <td>...</td>\n",
              "      <td>...</td>\n",
              "      <td>...</td>\n",
              "      <td>...</td>\n",
              "      <td>...</td>\n",
              "      <td>...</td>\n",
              "      <td>...</td>\n",
              "      <td>...</td>\n",
              "      <td>...</td>\n",
              "      <td>...</td>\n",
              "    </tr>\n",
              "    <tr>\n",
              "      <th>2016-08-20</th>\n",
              "      <td>52</td>\n",
              "      <td>52</td>\n",
              "      <td>52</td>\n",
              "      <td>47</td>\n",
              "      <td>52</td>\n",
              "      <td>52</td>\n",
              "      <td>52</td>\n",
              "      <td>52</td>\n",
              "      <td>52</td>\n",
              "      <td>52</td>\n",
              "      <td>52</td>\n",
              "      <td>52</td>\n",
              "      <td>52</td>\n",
              "    </tr>\n",
              "    <tr>\n",
              "      <th>2016-08-21</th>\n",
              "      <td>54</td>\n",
              "      <td>54</td>\n",
              "      <td>54</td>\n",
              "      <td>50</td>\n",
              "      <td>54</td>\n",
              "      <td>54</td>\n",
              "      <td>54</td>\n",
              "      <td>54</td>\n",
              "      <td>54</td>\n",
              "      <td>54</td>\n",
              "      <td>54</td>\n",
              "      <td>54</td>\n",
              "      <td>54</td>\n",
              "    </tr>\n",
              "    <tr>\n",
              "      <th>2016-08-22</th>\n",
              "      <td>51</td>\n",
              "      <td>51</td>\n",
              "      <td>51</td>\n",
              "      <td>46</td>\n",
              "      <td>51</td>\n",
              "      <td>51</td>\n",
              "      <td>50</td>\n",
              "      <td>50</td>\n",
              "      <td>51</td>\n",
              "      <td>51</td>\n",
              "      <td>51</td>\n",
              "      <td>51</td>\n",
              "      <td>51</td>\n",
              "    </tr>\n",
              "    <tr>\n",
              "      <th>2016-08-23</th>\n",
              "      <td>70</td>\n",
              "      <td>70</td>\n",
              "      <td>70</td>\n",
              "      <td>62</td>\n",
              "      <td>70</td>\n",
              "      <td>70</td>\n",
              "      <td>70</td>\n",
              "      <td>70</td>\n",
              "      <td>70</td>\n",
              "      <td>70</td>\n",
              "      <td>70</td>\n",
              "      <td>70</td>\n",
              "      <td>70</td>\n",
              "    </tr>\n",
              "    <tr>\n",
              "      <th>2016-08-24</th>\n",
              "      <td>19</td>\n",
              "      <td>19</td>\n",
              "      <td>19</td>\n",
              "      <td>17</td>\n",
              "      <td>19</td>\n",
              "      <td>19</td>\n",
              "      <td>19</td>\n",
              "      <td>19</td>\n",
              "      <td>19</td>\n",
              "      <td>19</td>\n",
              "      <td>19</td>\n",
              "      <td>19</td>\n",
              "      <td>19</td>\n",
              "    </tr>\n",
              "  </tbody>\n",
              "</table>\n",
              "<p>259 rows × 13 columns</p>\n",
              "</div>"
            ],
            "text/plain": [
              "            lat  lng  desc  zip  title  ...   e  reason  dayOfWeek  month  hour\n",
              "date                                    ...                                    \n",
              "2015-12-10   15   15    15   13     15  ...  15      15         15     15    15\n",
              "2015-12-11   69   69    69   59     69  ...  69      69         69     69    69\n",
              "2015-12-12   68   68    68   53     68  ...  68      68         68     68    68\n",
              "2015-12-13   51   51    51   48     51  ...  51      51         51     51    51\n",
              "2015-12-14   39   39    39   36     39  ...  39      39         39     39    39\n",
              "...         ...  ...   ...  ...    ...  ...  ..     ...        ...    ...   ...\n",
              "2016-08-20   52   52    52   47     52  ...  52      52         52     52    52\n",
              "2016-08-21   54   54    54   50     54  ...  54      54         54     54    54\n",
              "2016-08-22   51   51    51   46     51  ...  51      51         51     51    51\n",
              "2016-08-23   70   70    70   62     70  ...  70      70         70     70    70\n",
              "2016-08-24   19   19    19   17     19  ...  19      19         19     19    19\n",
              "\n",
              "[259 rows x 13 columns]"
            ]
          },
          "metadata": {
            "tags": []
          },
          "execution_count": 62
        }
      ]
    },
    {
      "cell_type": "code",
      "metadata": {
        "id": "wwKGdfKzqq6n",
        "colab_type": "code",
        "outputId": "ae3c2cac-96c5-442f-fc95-9d80943ee874",
        "colab": {
          "base_uri": "https://localhost:8080/",
          "height": 406
        }
      },
      "source": [
        "plt.figure(figsize = (12,6))\n",
        "df[df[\"reason\"]==\"Fire\"].groupby(\"date\").count()[\"twp\"].plot()"
      ],
      "execution_count": 63,
      "outputs": [
        {
          "output_type": "execute_result",
          "data": {
            "text/plain": [
              "<matplotlib.axes._subplots.AxesSubplot at 0x7f1186e9bf98>"
            ]
          },
          "metadata": {
            "tags": []
          },
          "execution_count": 63
        },
        {
          "output_type": "display_data",
          "data": {
            "image/png": "[encoded data removed]",
            "text/plain": [
              "<Figure size 864x432 with 1 Axes>"
            ]
          },
          "metadata": {
            "tags": [],
            "needs_background": "light"
          }
        }
      ]
    },
    {
      "cell_type": "code",
      "metadata": {
        "id": "mfMLWgZHqy9o",
        "colab_type": "code",
        "outputId": "01dbead4-a9ea-43df-ddb1-9cb29101d4e3",
        "colab": {
          "base_uri": "https://localhost:8080/",
          "height": 406
        }
      },
      "source": [
        "plt.figure(figsize = (12,6))\n",
        "df[df[\"reason\"]==\"Traffic\"].groupby(\"date\").count()[\"twp\"].plot()"
      ],
      "execution_count": 64,
      "outputs": [
        {
          "output_type": "execute_result",
          "data": {
            "text/plain": [
              "<matplotlib.axes._subplots.AxesSubplot at 0x7f1186e42c88>"
            ]
          },
          "metadata": {
            "tags": []
          },
          "execution_count": 64
        },
        {
          "output_type": "display_data",
          "data": {
            "image/png": "[encoded data removed]",
            "text/plain": [
              "<Figure size 864x432 with 1 Axes>"
            ]
          },
          "metadata": {
            "tags": [],
            "needs_background": "light"
          }
        }
      ]
    },
    {
      "cell_type": "markdown",
      "metadata": {
        "id": "lktQvkfR1K6l",
        "colab_type": "text"
      },
      "source": [
        "Calls for traffic are very high around mid January, 2016."
      ]
    },
    {
      "cell_type": "code",
      "metadata": {
        "id": "hPMvxITwruT3",
        "colab_type": "code",
        "outputId": "50264ef6-37b1-4b58-938b-67f28858925b",
        "colab": {
          "base_uri": "https://localhost:8080/",
          "height": 406
        }
      },
      "source": [
        "plt.figure(figsize = (12,6))\n",
        "df[df[\"reason\"]==\"EMS\"].groupby(\"date\").count()[\"twp\"].plot()"
      ],
      "execution_count": 65,
      "outputs": [
        {
          "output_type": "execute_result",
          "data": {
            "text/plain": [
              "<matplotlib.axes._subplots.AxesSubplot at 0x7f1186da96d8>"
            ]
          },
          "metadata": {
            "tags": []
          },
          "execution_count": 65
        },
        {
          "output_type": "display_data",
          "data": {
            "image/png": "[encoded data removed]",
            "text/plain": [
              "<Figure size 864x432 with 1 Axes>"
            ]
          },
          "metadata": {
            "tags": [],
            "needs_background": "light"
          }
        }
      ]
    },
    {
      "cell_type": "markdown",
      "metadata": {
        "id": "pCWA8HEeRByJ",
        "colab_type": "text"
      },
      "source": [
        "Calls for EMS are very high year-round falling substantially only during December 2015, May 2016 and October 2016"
      ]
    },
    {
      "cell_type": "code",
      "metadata": {
        "id": "iawQyYgusBNV",
        "colab_type": "code",
        "colab": {}
      },
      "source": [
        ""
      ],
      "execution_count": 0,
      "outputs": []
    },
    {
      "cell_type": "code",
      "metadata": {
        "id": "O6I88vdMtTfh",
        "colab_type": "code",
        "outputId": "00157355-e0fd-40e2-ff5d-fdee1acff46b",
        "colab": {
          "base_uri": "https://localhost:8080/",
          "height": 521
        }
      },
      "source": [
        "df.head()"
      ],
      "execution_count": 66,
      "outputs": [
        {
          "output_type": "execute_result",
          "data": {
            "text/html": [
              "<div>\n",
              "<style scoped>\n",
              "    .dataframe tbody tr th:only-of-type {\n",
              "        vertical-align: middle;\n",
              "    }\n",
              "\n",
              "    .dataframe tbody tr th {\n",
              "        vertical-align: top;\n",
              "    }\n",
              "\n",
              "    .dataframe thead th {\n",
              "        text-align: right;\n",
              "    }\n",
              "</style>\n",
              "<table border=\"1\" class=\"dataframe\">\n",
              "  <thead>\n",
              "    <tr style=\"text-align: right;\">\n",
              "      <th></th>\n",
              "      <th>lat</th>\n",
              "      <th>lng</th>\n",
              "      <th>desc</th>\n",
              "      <th>zip</th>\n",
              "      <th>title</th>\n",
              "      <th>timeStamp</th>\n",
              "      <th>twp</th>\n",
              "      <th>addr</th>\n",
              "      <th>e</th>\n",
              "      <th>reason</th>\n",
              "      <th>dayOfWeek</th>\n",
              "      <th>month</th>\n",
              "      <th>hour</th>\n",
              "      <th>date</th>\n",
              "    </tr>\n",
              "  </thead>\n",
              "  <tbody>\n",
              "    <tr>\n",
              "      <th>0</th>\n",
              "      <td>40.297876</td>\n",
              "      <td>-75.581294</td>\n",
              "      <td>REINDEER CT &amp; DEAD END;  NEW HANOVER; Station ...</td>\n",
              "      <td>19525.0</td>\n",
              "      <td>EMS: BACK PAINS/INJURY</td>\n",
              "      <td>2015-12-10 17:40:00</td>\n",
              "      <td>NEW HANOVER</td>\n",
              "      <td>REINDEER CT &amp; DEAD END</td>\n",
              "      <td>1</td>\n",
              "      <td>EMS</td>\n",
              "      <td>Thu</td>\n",
              "      <td>12</td>\n",
              "      <td>17</td>\n",
              "      <td>2015-12-10</td>\n",
              "    </tr>\n",
              "    <tr>\n",
              "      <th>1</th>\n",
              "      <td>40.258061</td>\n",
              "      <td>-75.264680</td>\n",
              "      <td>BRIAR PATH &amp; WHITEMARSH LN;  HATFIELD TOWNSHIP...</td>\n",
              "      <td>19446.0</td>\n",
              "      <td>EMS: DIABETIC EMERGENCY</td>\n",
              "      <td>2015-12-10 17:40:00</td>\n",
              "      <td>HATFIELD TOWNSHIP</td>\n",
              "      <td>BRIAR PATH &amp; WHITEMARSH LN</td>\n",
              "      <td>1</td>\n",
              "      <td>EMS</td>\n",
              "      <td>Thu</td>\n",
              "      <td>12</td>\n",
              "      <td>17</td>\n",
              "      <td>2015-12-10</td>\n",
              "    </tr>\n",
              "    <tr>\n",
              "      <th>2</th>\n",
              "      <td>40.121182</td>\n",
              "      <td>-75.351975</td>\n",
              "      <td>HAWS AVE; NORRISTOWN; 2015-12-10 @ 14:39:21-St...</td>\n",
              "      <td>19401.0</td>\n",
              "      <td>Fire: GAS-ODOR/LEAK</td>\n",
              "      <td>2015-12-10 17:40:00</td>\n",
              "      <td>NORRISTOWN</td>\n",
              "      <td>HAWS AVE</td>\n",
              "      <td>1</td>\n",
              "      <td>Fire</td>\n",
              "      <td>Thu</td>\n",
              "      <td>12</td>\n",
              "      <td>17</td>\n",
              "      <td>2015-12-10</td>\n",
              "    </tr>\n",
              "    <tr>\n",
              "      <th>3</th>\n",
              "      <td>40.116153</td>\n",
              "      <td>-75.343513</td>\n",
              "      <td>AIRY ST &amp; SWEDE ST;  NORRISTOWN; Station 308A;...</td>\n",
              "      <td>19401.0</td>\n",
              "      <td>EMS: CARDIAC EMERGENCY</td>\n",
              "      <td>2015-12-10 17:40:01</td>\n",
              "      <td>NORRISTOWN</td>\n",
              "      <td>AIRY ST &amp; SWEDE ST</td>\n",
              "      <td>1</td>\n",
              "      <td>EMS</td>\n",
              "      <td>Thu</td>\n",
              "      <td>12</td>\n",
              "      <td>17</td>\n",
              "      <td>2015-12-10</td>\n",
              "    </tr>\n",
              "    <tr>\n",
              "      <th>4</th>\n",
              "      <td>40.251492</td>\n",
              "      <td>-75.603350</td>\n",
              "      <td>CHERRYWOOD CT &amp; DEAD END;  LOWER POTTSGROVE; S...</td>\n",
              "      <td>NaN</td>\n",
              "      <td>EMS: DIZZINESS</td>\n",
              "      <td>2015-12-10 17:40:01</td>\n",
              "      <td>LOWER POTTSGROVE</td>\n",
              "      <td>CHERRYWOOD CT &amp; DEAD END</td>\n",
              "      <td>1</td>\n",
              "      <td>EMS</td>\n",
              "      <td>Thu</td>\n",
              "      <td>12</td>\n",
              "      <td>17</td>\n",
              "      <td>2015-12-10</td>\n",
              "    </tr>\n",
              "  </tbody>\n",
              "</table>\n",
              "</div>"
            ],
            "text/plain": [
              "         lat        lng  ... hour        date\n",
              "0  40.297876 -75.581294  ...   17  2015-12-10\n",
              "1  40.258061 -75.264680  ...   17  2015-12-10\n",
              "2  40.121182 -75.351975  ...   17  2015-12-10\n",
              "3  40.116153 -75.343513  ...   17  2015-12-10\n",
              "4  40.251492 -75.603350  ...   17  2015-12-10\n",
              "\n",
              "[5 rows x 14 columns]"
            ]
          },
          "metadata": {
            "tags": []
          },
          "execution_count": 66
        }
      ]
    },
    {
      "cell_type": "code",
      "metadata": {
        "id": "DTyp-OGOtUMa",
        "colab_type": "code",
        "colab": {}
      },
      "source": [
        "# df.set_index(\"dayOfWeek\")\n",
        "# not inplace"
      ],
      "execution_count": 0,
      "outputs": []
    },
    {
      "cell_type": "code",
      "metadata": {
        "id": "qsoPi_dxojBN",
        "colab_type": "code",
        "colab": {
          "base_uri": "https://localhost:8080/",
          "height": 455
        },
        "outputId": "7cef7ffa-a86e-44ad-931a-f3e2a580c174"
      },
      "source": [
        "df.groupby(by=[\"dayOfWeek\", \"hour\"]).count()"
      ],
      "execution_count": 163,
      "outputs": [
        {
          "output_type": "execute_result",
          "data": {
            "text/html": [
              "<div>\n",
              "<style scoped>\n",
              "    .dataframe tbody tr th:only-of-type {\n",
              "        vertical-align: middle;\n",
              "    }\n",
              "\n",
              "    .dataframe tbody tr th {\n",
              "        vertical-align: top;\n",
              "    }\n",
              "\n",
              "    .dataframe thead th {\n",
              "        text-align: right;\n",
              "    }\n",
              "</style>\n",
              "<table border=\"1\" class=\"dataframe\">\n",
              "  <thead>\n",
              "    <tr style=\"text-align: right;\">\n",
              "      <th></th>\n",
              "      <th></th>\n",
              "      <th>lat</th>\n",
              "      <th>lng</th>\n",
              "      <th>desc</th>\n",
              "      <th>zip</th>\n",
              "      <th>title</th>\n",
              "      <th>timeStamp</th>\n",
              "      <th>twp</th>\n",
              "      <th>addr</th>\n",
              "      <th>e</th>\n",
              "      <th>reason</th>\n",
              "      <th>month</th>\n",
              "      <th>date</th>\n",
              "      <th>date-digit</th>\n",
              "    </tr>\n",
              "    <tr>\n",
              "      <th>dayOfWeek</th>\n",
              "      <th>hour</th>\n",
              "      <th></th>\n",
              "      <th></th>\n",
              "      <th></th>\n",
              "      <th></th>\n",
              "      <th></th>\n",
              "      <th></th>\n",
              "      <th></th>\n",
              "      <th></th>\n",
              "      <th></th>\n",
              "      <th></th>\n",
              "      <th></th>\n",
              "      <th></th>\n",
              "      <th></th>\n",
              "    </tr>\n",
              "  </thead>\n",
              "  <tbody>\n",
              "    <tr>\n",
              "      <th rowspan=\"5\" valign=\"top\">Fri</th>\n",
              "      <th>0</th>\n",
              "      <td>275</td>\n",
              "      <td>275</td>\n",
              "      <td>275</td>\n",
              "      <td>248</td>\n",
              "      <td>275</td>\n",
              "      <td>275</td>\n",
              "      <td>275</td>\n",
              "      <td>275</td>\n",
              "      <td>275</td>\n",
              "      <td>275</td>\n",
              "      <td>275</td>\n",
              "      <td>275</td>\n",
              "      <td>275</td>\n",
              "    </tr>\n",
              "    <tr>\n",
              "      <th>1</th>\n",
              "      <td>235</td>\n",
              "      <td>235</td>\n",
              "      <td>235</td>\n",
              "      <td>200</td>\n",
              "      <td>235</td>\n",
              "      <td>235</td>\n",
              "      <td>235</td>\n",
              "      <td>232</td>\n",
              "      <td>235</td>\n",
              "      <td>235</td>\n",
              "      <td>235</td>\n",
              "      <td>235</td>\n",
              "      <td>235</td>\n",
              "    </tr>\n",
              "    <tr>\n",
              "      <th>2</th>\n",
              "      <td>191</td>\n",
              "      <td>191</td>\n",
              "      <td>191</td>\n",
              "      <td>165</td>\n",
              "      <td>191</td>\n",
              "      <td>191</td>\n",
              "      <td>191</td>\n",
              "      <td>191</td>\n",
              "      <td>191</td>\n",
              "      <td>191</td>\n",
              "      <td>191</td>\n",
              "      <td>191</td>\n",
              "      <td>191</td>\n",
              "    </tr>\n",
              "    <tr>\n",
              "      <th>3</th>\n",
              "      <td>175</td>\n",
              "      <td>175</td>\n",
              "      <td>175</td>\n",
              "      <td>164</td>\n",
              "      <td>175</td>\n",
              "      <td>175</td>\n",
              "      <td>175</td>\n",
              "      <td>175</td>\n",
              "      <td>175</td>\n",
              "      <td>175</td>\n",
              "      <td>175</td>\n",
              "      <td>175</td>\n",
              "      <td>175</td>\n",
              "    </tr>\n",
              "    <tr>\n",
              "      <th>4</th>\n",
              "      <td>201</td>\n",
              "      <td>201</td>\n",
              "      <td>201</td>\n",
              "      <td>184</td>\n",
              "      <td>201</td>\n",
              "      <td>201</td>\n",
              "      <td>201</td>\n",
              "      <td>201</td>\n",
              "      <td>201</td>\n",
              "      <td>201</td>\n",
              "      <td>201</td>\n",
              "      <td>201</td>\n",
              "      <td>201</td>\n",
              "    </tr>\n",
              "    <tr>\n",
              "      <th>...</th>\n",
              "      <th>...</th>\n",
              "      <td>...</td>\n",
              "      <td>...</td>\n",
              "      <td>...</td>\n",
              "      <td>...</td>\n",
              "      <td>...</td>\n",
              "      <td>...</td>\n",
              "      <td>...</td>\n",
              "      <td>...</td>\n",
              "      <td>...</td>\n",
              "      <td>...</td>\n",
              "      <td>...</td>\n",
              "      <td>...</td>\n",
              "      <td>...</td>\n",
              "    </tr>\n",
              "    <tr>\n",
              "      <th rowspan=\"5\" valign=\"top\">Wed</th>\n",
              "      <th>19</th>\n",
              "      <td>686</td>\n",
              "      <td>686</td>\n",
              "      <td>686</td>\n",
              "      <td>590</td>\n",
              "      <td>686</td>\n",
              "      <td>686</td>\n",
              "      <td>686</td>\n",
              "      <td>682</td>\n",
              "      <td>686</td>\n",
              "      <td>686</td>\n",
              "      <td>686</td>\n",
              "      <td>686</td>\n",
              "      <td>686</td>\n",
              "    </tr>\n",
              "    <tr>\n",
              "      <th>20</th>\n",
              "      <td>668</td>\n",
              "      <td>668</td>\n",
              "      <td>668</td>\n",
              "      <td>597</td>\n",
              "      <td>668</td>\n",
              "      <td>668</td>\n",
              "      <td>668</td>\n",
              "      <td>662</td>\n",
              "      <td>668</td>\n",
              "      <td>668</td>\n",
              "      <td>668</td>\n",
              "      <td>668</td>\n",
              "      <td>668</td>\n",
              "    </tr>\n",
              "    <tr>\n",
              "      <th>21</th>\n",
              "      <td>575</td>\n",
              "      <td>575</td>\n",
              "      <td>575</td>\n",
              "      <td>508</td>\n",
              "      <td>575</td>\n",
              "      <td>575</td>\n",
              "      <td>574</td>\n",
              "      <td>572</td>\n",
              "      <td>575</td>\n",
              "      <td>575</td>\n",
              "      <td>575</td>\n",
              "      <td>575</td>\n",
              "      <td>575</td>\n",
              "    </tr>\n",
              "    <tr>\n",
              "      <th>22</th>\n",
              "      <td>490</td>\n",
              "      <td>490</td>\n",
              "      <td>490</td>\n",
              "      <td>432</td>\n",
              "      <td>490</td>\n",
              "      <td>490</td>\n",
              "      <td>490</td>\n",
              "      <td>485</td>\n",
              "      <td>490</td>\n",
              "      <td>490</td>\n",
              "      <td>490</td>\n",
              "      <td>490</td>\n",
              "      <td>490</td>\n",
              "    </tr>\n",
              "    <tr>\n",
              "      <th>23</th>\n",
              "      <td>335</td>\n",
              "      <td>335</td>\n",
              "      <td>335</td>\n",
              "      <td>294</td>\n",
              "      <td>335</td>\n",
              "      <td>335</td>\n",
              "      <td>334</td>\n",
              "      <td>335</td>\n",
              "      <td>335</td>\n",
              "      <td>335</td>\n",
              "      <td>335</td>\n",
              "      <td>335</td>\n",
              "      <td>335</td>\n",
              "    </tr>\n",
              "  </tbody>\n",
              "</table>\n",
              "<p>168 rows × 13 columns</p>\n",
              "</div>"
            ],
            "text/plain": [
              "                lat  lng  desc  zip  ...  reason  month  date  date-digit\n",
              "dayOfWeek hour                       ...                                 \n",
              "Fri       0     275  275   275  248  ...     275    275   275         275\n",
              "          1     235  235   235  200  ...     235    235   235         235\n",
              "          2     191  191   191  165  ...     191    191   191         191\n",
              "          3     175  175   175  164  ...     175    175   175         175\n",
              "          4     201  201   201  184  ...     201    201   201         201\n",
              "...             ...  ...   ...  ...  ...     ...    ...   ...         ...\n",
              "Wed       19    686  686   686  590  ...     686    686   686         686\n",
              "          20    668  668   668  597  ...     668    668   668         668\n",
              "          21    575  575   575  508  ...     575    575   575         575\n",
              "          22    490  490   490  432  ...     490    490   490         490\n",
              "          23    335  335   335  294  ...     335    335   335         335\n",
              "\n",
              "[168 rows x 13 columns]"
            ]
          },
          "metadata": {
            "tags": []
          },
          "execution_count": 163
        }
      ]
    },
    {
      "cell_type": "markdown",
      "metadata": {
        "id": "CUK8k2uDolQs",
        "colab_type": "text"
      },
      "source": [
        "Grouped by day of week and then the result grouped by hour."
      ]
    },
    {
      "cell_type": "code",
      "metadata": {
        "id": "PRr4-UU3o4Tw",
        "colab_type": "code",
        "colab": {
          "base_uri": "https://localhost:8080/",
          "height": 833
        },
        "outputId": "f0335507-1f54-47b2-91e4-6cadc569b668"
      },
      "source": [
        "df.groupby(by=[\"dayOfWeek\", \"hour\"]).count().loc[\"Fri\"]"
      ],
      "execution_count": 165,
      "outputs": [
        {
          "output_type": "execute_result",
          "data": {
            "text/html": [
              "<div>\n",
              "<style scoped>\n",
              "    .dataframe tbody tr th:only-of-type {\n",
              "        vertical-align: middle;\n",
              "    }\n",
              "\n",
              "    .dataframe tbody tr th {\n",
              "        vertical-align: top;\n",
              "    }\n",
              "\n",
              "    .dataframe thead th {\n",
              "        text-align: right;\n",
              "    }\n",
              "</style>\n",
              "<table border=\"1\" class=\"dataframe\">\n",
              "  <thead>\n",
              "    <tr style=\"text-align: right;\">\n",
              "      <th></th>\n",
              "      <th>lat</th>\n",
              "      <th>lng</th>\n",
              "      <th>desc</th>\n",
              "      <th>zip</th>\n",
              "      <th>title</th>\n",
              "      <th>timeStamp</th>\n",
              "      <th>twp</th>\n",
              "      <th>addr</th>\n",
              "      <th>e</th>\n",
              "      <th>reason</th>\n",
              "      <th>month</th>\n",
              "      <th>date</th>\n",
              "      <th>date-digit</th>\n",
              "    </tr>\n",
              "    <tr>\n",
              "      <th>hour</th>\n",
              "      <th></th>\n",
              "      <th></th>\n",
              "      <th></th>\n",
              "      <th></th>\n",
              "      <th></th>\n",
              "      <th></th>\n",
              "      <th></th>\n",
              "      <th></th>\n",
              "      <th></th>\n",
              "      <th></th>\n",
              "      <th></th>\n",
              "      <th></th>\n",
              "      <th></th>\n",
              "    </tr>\n",
              "  </thead>\n",
              "  <tbody>\n",
              "    <tr>\n",
              "      <th>0</th>\n",
              "      <td>275</td>\n",
              "      <td>275</td>\n",
              "      <td>275</td>\n",
              "      <td>248</td>\n",
              "      <td>275</td>\n",
              "      <td>275</td>\n",
              "      <td>275</td>\n",
              "      <td>275</td>\n",
              "      <td>275</td>\n",
              "      <td>275</td>\n",
              "      <td>275</td>\n",
              "      <td>275</td>\n",
              "      <td>275</td>\n",
              "    </tr>\n",
              "    <tr>\n",
              "      <th>1</th>\n",
              "      <td>235</td>\n",
              "      <td>235</td>\n",
              "      <td>235</td>\n",
              "      <td>200</td>\n",
              "      <td>235</td>\n",
              "      <td>235</td>\n",
              "      <td>235</td>\n",
              "      <td>232</td>\n",
              "      <td>235</td>\n",
              "      <td>235</td>\n",
              "      <td>235</td>\n",
              "      <td>235</td>\n",
              "      <td>235</td>\n",
              "    </tr>\n",
              "    <tr>\n",
              "      <th>2</th>\n",
              "      <td>191</td>\n",
              "      <td>191</td>\n",
              "      <td>191</td>\n",
              "      <td>165</td>\n",
              "      <td>191</td>\n",
              "      <td>191</td>\n",
              "      <td>191</td>\n",
              "      <td>191</td>\n",
              "      <td>191</td>\n",
              "      <td>191</td>\n",
              "      <td>191</td>\n",
              "      <td>191</td>\n",
              "      <td>191</td>\n",
              "    </tr>\n",
              "    <tr>\n",
              "      <th>3</th>\n",
              "      <td>175</td>\n",
              "      <td>175</td>\n",
              "      <td>175</td>\n",
              "      <td>164</td>\n",
              "      <td>175</td>\n",
              "      <td>175</td>\n",
              "      <td>175</td>\n",
              "      <td>175</td>\n",
              "      <td>175</td>\n",
              "      <td>175</td>\n",
              "      <td>175</td>\n",
              "      <td>175</td>\n",
              "      <td>175</td>\n",
              "    </tr>\n",
              "    <tr>\n",
              "      <th>4</th>\n",
              "      <td>201</td>\n",
              "      <td>201</td>\n",
              "      <td>201</td>\n",
              "      <td>184</td>\n",
              "      <td>201</td>\n",
              "      <td>201</td>\n",
              "      <td>201</td>\n",
              "      <td>201</td>\n",
              "      <td>201</td>\n",
              "      <td>201</td>\n",
              "      <td>201</td>\n",
              "      <td>201</td>\n",
              "      <td>201</td>\n",
              "    </tr>\n",
              "    <tr>\n",
              "      <th>5</th>\n",
              "      <td>194</td>\n",
              "      <td>194</td>\n",
              "      <td>194</td>\n",
              "      <td>166</td>\n",
              "      <td>194</td>\n",
              "      <td>194</td>\n",
              "      <td>194</td>\n",
              "      <td>194</td>\n",
              "      <td>194</td>\n",
              "      <td>194</td>\n",
              "      <td>194</td>\n",
              "      <td>194</td>\n",
              "      <td>194</td>\n",
              "    </tr>\n",
              "    <tr>\n",
              "      <th>6</th>\n",
              "      <td>372</td>\n",
              "      <td>372</td>\n",
              "      <td>372</td>\n",
              "      <td>319</td>\n",
              "      <td>372</td>\n",
              "      <td>372</td>\n",
              "      <td>372</td>\n",
              "      <td>369</td>\n",
              "      <td>372</td>\n",
              "      <td>372</td>\n",
              "      <td>372</td>\n",
              "      <td>372</td>\n",
              "      <td>372</td>\n",
              "    </tr>\n",
              "    <tr>\n",
              "      <th>7</th>\n",
              "      <td>598</td>\n",
              "      <td>598</td>\n",
              "      <td>598</td>\n",
              "      <td>526</td>\n",
              "      <td>598</td>\n",
              "      <td>598</td>\n",
              "      <td>598</td>\n",
              "      <td>593</td>\n",
              "      <td>598</td>\n",
              "      <td>598</td>\n",
              "      <td>598</td>\n",
              "      <td>598</td>\n",
              "      <td>598</td>\n",
              "    </tr>\n",
              "    <tr>\n",
              "      <th>8</th>\n",
              "      <td>742</td>\n",
              "      <td>742</td>\n",
              "      <td>742</td>\n",
              "      <td>637</td>\n",
              "      <td>742</td>\n",
              "      <td>742</td>\n",
              "      <td>742</td>\n",
              "      <td>737</td>\n",
              "      <td>742</td>\n",
              "      <td>742</td>\n",
              "      <td>742</td>\n",
              "      <td>742</td>\n",
              "      <td>742</td>\n",
              "    </tr>\n",
              "    <tr>\n",
              "      <th>9</th>\n",
              "      <td>752</td>\n",
              "      <td>752</td>\n",
              "      <td>752</td>\n",
              "      <td>663</td>\n",
              "      <td>752</td>\n",
              "      <td>752</td>\n",
              "      <td>752</td>\n",
              "      <td>748</td>\n",
              "      <td>752</td>\n",
              "      <td>752</td>\n",
              "      <td>752</td>\n",
              "      <td>752</td>\n",
              "      <td>752</td>\n",
              "    </tr>\n",
              "    <tr>\n",
              "      <th>10</th>\n",
              "      <td>803</td>\n",
              "      <td>803</td>\n",
              "      <td>803</td>\n",
              "      <td>722</td>\n",
              "      <td>803</td>\n",
              "      <td>803</td>\n",
              "      <td>803</td>\n",
              "      <td>800</td>\n",
              "      <td>803</td>\n",
              "      <td>803</td>\n",
              "      <td>803</td>\n",
              "      <td>803</td>\n",
              "      <td>803</td>\n",
              "    </tr>\n",
              "    <tr>\n",
              "      <th>11</th>\n",
              "      <td>859</td>\n",
              "      <td>859</td>\n",
              "      <td>859</td>\n",
              "      <td>756</td>\n",
              "      <td>859</td>\n",
              "      <td>859</td>\n",
              "      <td>859</td>\n",
              "      <td>858</td>\n",
              "      <td>859</td>\n",
              "      <td>859</td>\n",
              "      <td>859</td>\n",
              "      <td>859</td>\n",
              "      <td>859</td>\n",
              "    </tr>\n",
              "    <tr>\n",
              "      <th>12</th>\n",
              "      <td>885</td>\n",
              "      <td>885</td>\n",
              "      <td>885</td>\n",
              "      <td>764</td>\n",
              "      <td>885</td>\n",
              "      <td>885</td>\n",
              "      <td>885</td>\n",
              "      <td>877</td>\n",
              "      <td>885</td>\n",
              "      <td>885</td>\n",
              "      <td>885</td>\n",
              "      <td>885</td>\n",
              "      <td>885</td>\n",
              "    </tr>\n",
              "    <tr>\n",
              "      <th>13</th>\n",
              "      <td>890</td>\n",
              "      <td>890</td>\n",
              "      <td>890</td>\n",
              "      <td>767</td>\n",
              "      <td>890</td>\n",
              "      <td>890</td>\n",
              "      <td>890</td>\n",
              "      <td>885</td>\n",
              "      <td>890</td>\n",
              "      <td>890</td>\n",
              "      <td>890</td>\n",
              "      <td>890</td>\n",
              "      <td>890</td>\n",
              "    </tr>\n",
              "    <tr>\n",
              "      <th>14</th>\n",
              "      <td>932</td>\n",
              "      <td>932</td>\n",
              "      <td>932</td>\n",
              "      <td>808</td>\n",
              "      <td>932</td>\n",
              "      <td>932</td>\n",
              "      <td>931</td>\n",
              "      <td>926</td>\n",
              "      <td>932</td>\n",
              "      <td>932</td>\n",
              "      <td>932</td>\n",
              "      <td>932</td>\n",
              "      <td>932</td>\n",
              "    </tr>\n",
              "    <tr>\n",
              "      <th>15</th>\n",
              "      <td>980</td>\n",
              "      <td>980</td>\n",
              "      <td>980</td>\n",
              "      <td>840</td>\n",
              "      <td>980</td>\n",
              "      <td>980</td>\n",
              "      <td>980</td>\n",
              "      <td>976</td>\n",
              "      <td>980</td>\n",
              "      <td>980</td>\n",
              "      <td>980</td>\n",
              "      <td>980</td>\n",
              "      <td>980</td>\n",
              "    </tr>\n",
              "    <tr>\n",
              "      <th>16</th>\n",
              "      <td>1039</td>\n",
              "      <td>1039</td>\n",
              "      <td>1039</td>\n",
              "      <td>897</td>\n",
              "      <td>1039</td>\n",
              "      <td>1039</td>\n",
              "      <td>1039</td>\n",
              "      <td>1038</td>\n",
              "      <td>1039</td>\n",
              "      <td>1039</td>\n",
              "      <td>1039</td>\n",
              "      <td>1039</td>\n",
              "      <td>1039</td>\n",
              "    </tr>\n",
              "    <tr>\n",
              "      <th>17</th>\n",
              "      <td>980</td>\n",
              "      <td>980</td>\n",
              "      <td>980</td>\n",
              "      <td>826</td>\n",
              "      <td>980</td>\n",
              "      <td>980</td>\n",
              "      <td>980</td>\n",
              "      <td>971</td>\n",
              "      <td>980</td>\n",
              "      <td>980</td>\n",
              "      <td>980</td>\n",
              "      <td>980</td>\n",
              "      <td>980</td>\n",
              "    </tr>\n",
              "    <tr>\n",
              "      <th>18</th>\n",
              "      <td>820</td>\n",
              "      <td>820</td>\n",
              "      <td>820</td>\n",
              "      <td>714</td>\n",
              "      <td>820</td>\n",
              "      <td>820</td>\n",
              "      <td>819</td>\n",
              "      <td>818</td>\n",
              "      <td>820</td>\n",
              "      <td>820</td>\n",
              "      <td>820</td>\n",
              "      <td>820</td>\n",
              "      <td>820</td>\n",
              "    </tr>\n",
              "    <tr>\n",
              "      <th>19</th>\n",
              "      <td>696</td>\n",
              "      <td>696</td>\n",
              "      <td>696</td>\n",
              "      <td>616</td>\n",
              "      <td>696</td>\n",
              "      <td>696</td>\n",
              "      <td>696</td>\n",
              "      <td>693</td>\n",
              "      <td>696</td>\n",
              "      <td>696</td>\n",
              "      <td>696</td>\n",
              "      <td>696</td>\n",
              "      <td>696</td>\n",
              "    </tr>\n",
              "    <tr>\n",
              "      <th>20</th>\n",
              "      <td>667</td>\n",
              "      <td>667</td>\n",
              "      <td>667</td>\n",
              "      <td>569</td>\n",
              "      <td>667</td>\n",
              "      <td>667</td>\n",
              "      <td>667</td>\n",
              "      <td>666</td>\n",
              "      <td>667</td>\n",
              "      <td>667</td>\n",
              "      <td>667</td>\n",
              "      <td>667</td>\n",
              "      <td>667</td>\n",
              "    </tr>\n",
              "    <tr>\n",
              "      <th>21</th>\n",
              "      <td>559</td>\n",
              "      <td>559</td>\n",
              "      <td>559</td>\n",
              "      <td>491</td>\n",
              "      <td>559</td>\n",
              "      <td>559</td>\n",
              "      <td>558</td>\n",
              "      <td>553</td>\n",
              "      <td>559</td>\n",
              "      <td>559</td>\n",
              "      <td>559</td>\n",
              "      <td>559</td>\n",
              "      <td>559</td>\n",
              "    </tr>\n",
              "    <tr>\n",
              "      <th>22</th>\n",
              "      <td>514</td>\n",
              "      <td>514</td>\n",
              "      <td>514</td>\n",
              "      <td>445</td>\n",
              "      <td>514</td>\n",
              "      <td>514</td>\n",
              "      <td>514</td>\n",
              "      <td>513</td>\n",
              "      <td>514</td>\n",
              "      <td>514</td>\n",
              "      <td>514</td>\n",
              "      <td>514</td>\n",
              "      <td>514</td>\n",
              "    </tr>\n",
              "    <tr>\n",
              "      <th>23</th>\n",
              "      <td>474</td>\n",
              "      <td>474</td>\n",
              "      <td>474</td>\n",
              "      <td>400</td>\n",
              "      <td>474</td>\n",
              "      <td>474</td>\n",
              "      <td>474</td>\n",
              "      <td>469</td>\n",
              "      <td>474</td>\n",
              "      <td>474</td>\n",
              "      <td>474</td>\n",
              "      <td>474</td>\n",
              "      <td>474</td>\n",
              "    </tr>\n",
              "  </tbody>\n",
              "</table>\n",
              "</div>"
            ],
            "text/plain": [
              "       lat   lng  desc  zip  title  ...     e  reason  month  date  date-digit\n",
              "hour                                ...                                       \n",
              "0      275   275   275  248    275  ...   275     275    275   275         275\n",
              "1      235   235   235  200    235  ...   235     235    235   235         235\n",
              "2      191   191   191  165    191  ...   191     191    191   191         191\n",
              "3      175   175   175  164    175  ...   175     175    175   175         175\n",
              "4      201   201   201  184    201  ...   201     201    201   201         201\n",
              "5      194   194   194  166    194  ...   194     194    194   194         194\n",
              "6      372   372   372  319    372  ...   372     372    372   372         372\n",
              "7      598   598   598  526    598  ...   598     598    598   598         598\n",
              "8      742   742   742  637    742  ...   742     742    742   742         742\n",
              "9      752   752   752  663    752  ...   752     752    752   752         752\n",
              "10     803   803   803  722    803  ...   803     803    803   803         803\n",
              "11     859   859   859  756    859  ...   859     859    859   859         859\n",
              "12     885   885   885  764    885  ...   885     885    885   885         885\n",
              "13     890   890   890  767    890  ...   890     890    890   890         890\n",
              "14     932   932   932  808    932  ...   932     932    932   932         932\n",
              "15     980   980   980  840    980  ...   980     980    980   980         980\n",
              "16    1039  1039  1039  897   1039  ...  1039    1039   1039  1039        1039\n",
              "17     980   980   980  826    980  ...   980     980    980   980         980\n",
              "18     820   820   820  714    820  ...   820     820    820   820         820\n",
              "19     696   696   696  616    696  ...   696     696    696   696         696\n",
              "20     667   667   667  569    667  ...   667     667    667   667         667\n",
              "21     559   559   559  491    559  ...   559     559    559   559         559\n",
              "22     514   514   514  445    514  ...   514     514    514   514         514\n",
              "23     474   474   474  400    474  ...   474     474    474   474         474\n",
              "\n",
              "[24 rows x 13 columns]"
            ]
          },
          "metadata": {
            "tags": []
          },
          "execution_count": 165
        }
      ]
    },
    {
      "cell_type": "markdown",
      "metadata": {
        "id": "HBic4idCpD5J",
        "colab_type": "text"
      },
      "source": [
        "Note 24 values (hours) for each day!  \n",
        "Keep chaining...!"
      ]
    },
    {
      "cell_type": "code",
      "metadata": {
        "id": "VgxUi777op7p",
        "colab_type": "code",
        "colab": {
          "base_uri": "https://localhost:8080/",
          "height": 253
        },
        "outputId": "7acda4d8-f845-4ca5-82a7-35d70fded534"
      },
      "source": [
        "# Choose any column since all columns have the same count now (except some which may have fewer due to NaN values)\n",
        "df.groupby(by=[\"dayOfWeek\", \"hour\"]).count()[\"reason\"]"
      ],
      "execution_count": 167,
      "outputs": [
        {
          "output_type": "execute_result",
          "data": {
            "text/plain": [
              "dayOfWeek  hour\n",
              "Fri        0       275\n",
              "           1       235\n",
              "           2       191\n",
              "           3       175\n",
              "           4       201\n",
              "                  ... \n",
              "Wed        19      686\n",
              "           20      668\n",
              "           21      575\n",
              "           22      490\n",
              "           23      335\n",
              "Name: reason, Length: 168, dtype: int64"
            ]
          },
          "metadata": {
            "tags": []
          },
          "execution_count": 167
        }
      ]
    },
    {
      "cell_type": "markdown",
      "metadata": {
        "id": "MU0vGfkEpWSl",
        "colab_type": "text"
      },
      "source": [
        "Now each of the 7 days has a value for each of the 24 hours. Thus convert hour to column header!"
      ]
    },
    {
      "cell_type": "code",
      "metadata": {
        "id": "V1MqPS6vuDdT",
        "colab_type": "code",
        "outputId": "2a507916-307c-4d4e-c4fd-a32f353c8040",
        "colab": {
          "base_uri": "https://localhost:8080/",
          "height": 237
        }
      },
      "source": [
        "# The stack method turns column names into index values, and the unstack method turns index values into column names.\n",
        "# So by shifting the values into the index, we can use stack and unstack to perform the swap.\n",
        "# https://stackoverflow.com/questions/24640399/how-to-unstack-or-pivot-in-pandas\n",
        "\n",
        "dayVSHour = df.groupby(by=[\"dayOfWeek\", \"hour\"]).count()[\"reason\"].unstack()\n",
        "dayVSHour.head()"
      ],
      "execution_count": 168,
      "outputs": [
        {
          "output_type": "execute_result",
          "data": {
            "text/html": [
              "<div>\n",
              "<style scoped>\n",
              "    .dataframe tbody tr th:only-of-type {\n",
              "        vertical-align: middle;\n",
              "    }\n",
              "\n",
              "    .dataframe tbody tr th {\n",
              "        vertical-align: top;\n",
              "    }\n",
              "\n",
              "    .dataframe thead th {\n",
              "        text-align: right;\n",
              "    }\n",
              "</style>\n",
              "<table border=\"1\" class=\"dataframe\">\n",
              "  <thead>\n",
              "    <tr style=\"text-align: right;\">\n",
              "      <th>hour</th>\n",
              "      <th>0</th>\n",
              "      <th>1</th>\n",
              "      <th>2</th>\n",
              "      <th>3</th>\n",
              "      <th>4</th>\n",
              "      <th>5</th>\n",
              "      <th>6</th>\n",
              "      <th>7</th>\n",
              "      <th>8</th>\n",
              "      <th>9</th>\n",
              "      <th>10</th>\n",
              "      <th>11</th>\n",
              "      <th>12</th>\n",
              "      <th>13</th>\n",
              "      <th>14</th>\n",
              "      <th>15</th>\n",
              "      <th>16</th>\n",
              "      <th>17</th>\n",
              "      <th>18</th>\n",
              "      <th>19</th>\n",
              "      <th>20</th>\n",
              "      <th>21</th>\n",
              "      <th>22</th>\n",
              "      <th>23</th>\n",
              "    </tr>\n",
              "    <tr>\n",
              "      <th>dayOfWeek</th>\n",
              "      <th></th>\n",
              "      <th></th>\n",
              "      <th></th>\n",
              "      <th></th>\n",
              "      <th></th>\n",
              "      <th></th>\n",
              "      <th></th>\n",
              "      <th></th>\n",
              "      <th></th>\n",
              "      <th></th>\n",
              "      <th></th>\n",
              "      <th></th>\n",
              "      <th></th>\n",
              "      <th></th>\n",
              "      <th></th>\n",
              "      <th></th>\n",
              "      <th></th>\n",
              "      <th></th>\n",
              "      <th></th>\n",
              "      <th></th>\n",
              "      <th></th>\n",
              "      <th></th>\n",
              "      <th></th>\n",
              "      <th></th>\n",
              "    </tr>\n",
              "  </thead>\n",
              "  <tbody>\n",
              "    <tr>\n",
              "      <th>Fri</th>\n",
              "      <td>275</td>\n",
              "      <td>235</td>\n",
              "      <td>191</td>\n",
              "      <td>175</td>\n",
              "      <td>201</td>\n",
              "      <td>194</td>\n",
              "      <td>372</td>\n",
              "      <td>598</td>\n",
              "      <td>742</td>\n",
              "      <td>752</td>\n",
              "      <td>803</td>\n",
              "      <td>859</td>\n",
              "      <td>885</td>\n",
              "      <td>890</td>\n",
              "      <td>932</td>\n",
              "      <td>980</td>\n",
              "      <td>1039</td>\n",
              "      <td>980</td>\n",
              "      <td>820</td>\n",
              "      <td>696</td>\n",
              "      <td>667</td>\n",
              "      <td>559</td>\n",
              "      <td>514</td>\n",
              "      <td>474</td>\n",
              "    </tr>\n",
              "    <tr>\n",
              "      <th>Mon</th>\n",
              "      <td>282</td>\n",
              "      <td>221</td>\n",
              "      <td>201</td>\n",
              "      <td>194</td>\n",
              "      <td>204</td>\n",
              "      <td>267</td>\n",
              "      <td>397</td>\n",
              "      <td>653</td>\n",
              "      <td>819</td>\n",
              "      <td>786</td>\n",
              "      <td>793</td>\n",
              "      <td>822</td>\n",
              "      <td>893</td>\n",
              "      <td>842</td>\n",
              "      <td>869</td>\n",
              "      <td>913</td>\n",
              "      <td>989</td>\n",
              "      <td>997</td>\n",
              "      <td>885</td>\n",
              "      <td>746</td>\n",
              "      <td>613</td>\n",
              "      <td>497</td>\n",
              "      <td>472</td>\n",
              "      <td>325</td>\n",
              "    </tr>\n",
              "    <tr>\n",
              "      <th>Sat</th>\n",
              "      <td>375</td>\n",
              "      <td>301</td>\n",
              "      <td>263</td>\n",
              "      <td>260</td>\n",
              "      <td>224</td>\n",
              "      <td>231</td>\n",
              "      <td>257</td>\n",
              "      <td>391</td>\n",
              "      <td>459</td>\n",
              "      <td>640</td>\n",
              "      <td>697</td>\n",
              "      <td>769</td>\n",
              "      <td>801</td>\n",
              "      <td>831</td>\n",
              "      <td>789</td>\n",
              "      <td>796</td>\n",
              "      <td>848</td>\n",
              "      <td>757</td>\n",
              "      <td>778</td>\n",
              "      <td>696</td>\n",
              "      <td>628</td>\n",
              "      <td>572</td>\n",
              "      <td>506</td>\n",
              "      <td>467</td>\n",
              "    </tr>\n",
              "    <tr>\n",
              "      <th>Sun</th>\n",
              "      <td>383</td>\n",
              "      <td>306</td>\n",
              "      <td>286</td>\n",
              "      <td>268</td>\n",
              "      <td>242</td>\n",
              "      <td>240</td>\n",
              "      <td>300</td>\n",
              "      <td>402</td>\n",
              "      <td>483</td>\n",
              "      <td>620</td>\n",
              "      <td>643</td>\n",
              "      <td>693</td>\n",
              "      <td>771</td>\n",
              "      <td>679</td>\n",
              "      <td>684</td>\n",
              "      <td>691</td>\n",
              "      <td>663</td>\n",
              "      <td>714</td>\n",
              "      <td>670</td>\n",
              "      <td>655</td>\n",
              "      <td>537</td>\n",
              "      <td>461</td>\n",
              "      <td>415</td>\n",
              "      <td>330</td>\n",
              "    </tr>\n",
              "    <tr>\n",
              "      <th>Thu</th>\n",
              "      <td>278</td>\n",
              "      <td>202</td>\n",
              "      <td>233</td>\n",
              "      <td>159</td>\n",
              "      <td>182</td>\n",
              "      <td>203</td>\n",
              "      <td>362</td>\n",
              "      <td>570</td>\n",
              "      <td>777</td>\n",
              "      <td>828</td>\n",
              "      <td>837</td>\n",
              "      <td>773</td>\n",
              "      <td>889</td>\n",
              "      <td>936</td>\n",
              "      <td>876</td>\n",
              "      <td>969</td>\n",
              "      <td>935</td>\n",
              "      <td>1013</td>\n",
              "      <td>810</td>\n",
              "      <td>698</td>\n",
              "      <td>617</td>\n",
              "      <td>553</td>\n",
              "      <td>424</td>\n",
              "      <td>354</td>\n",
              "    </tr>\n",
              "  </tbody>\n",
              "</table>\n",
              "</div>"
            ],
            "text/plain": [
              "hour        0    1    2    3    4    5   ...   18   19   20   21   22   23\n",
              "dayOfWeek                                ...                              \n",
              "Fri        275  235  191  175  201  194  ...  820  696  667  559  514  474\n",
              "Mon        282  221  201  194  204  267  ...  885  746  613  497  472  325\n",
              "Sat        375  301  263  260  224  231  ...  778  696  628  572  506  467\n",
              "Sun        383  306  286  268  242  240  ...  670  655  537  461  415  330\n",
              "Thu        278  202  233  159  182  203  ...  810  698  617  553  424  354\n",
              "\n",
              "[5 rows x 24 columns]"
            ]
          },
          "metadata": {
            "tags": []
          },
          "execution_count": 168
        }
      ]
    },
    {
      "cell_type": "markdown",
      "metadata": {
        "id": "7RXTcAuHph0I",
        "colab_type": "text"
      },
      "source": [
        "Hence, unstack useful when 2 attributes (here used in the case of 'groupby') have values for each other. I.e. each attribute has a value for every single value of the other attribute."
      ]
    },
    {
      "cell_type": "code",
      "metadata": {
        "id": "DOanHDnUucXP",
        "colab_type": "code",
        "outputId": "5ec8acca-c6d7-4863-d25c-7bff1ffc17a7",
        "colab": {
          "base_uri": "https://localhost:8080/",
          "height": 406
        }
      },
      "source": [
        "plt.figure(figsize = (12, 6))\n",
        "sns.heatmap(dayVSHour, cmap = 'viridis')"
      ],
      "execution_count": 69,
      "outputs": [
        {
          "output_type": "execute_result",
          "data": {
            "text/plain": [
              "<matplotlib.axes._subplots.AxesSubplot at 0x7f1186d5f048>"
            ]
          },
          "metadata": {
            "tags": []
          },
          "execution_count": 69
        },
        {
          "output_type": "display_data",
          "data": {
            "image/png": "[encoded data removed]",
            "text/plain": [
              "<Figure size 864x432 with 2 Axes>"
            ]
          },
          "metadata": {
            "tags": [],
            "needs_background": "light"
          }
        }
      ]
    },
    {
      "cell_type": "markdown",
      "metadata": {
        "id": "24UeZBp3p1O0",
        "colab_type": "text"
      },
      "source": [
        "Basically, just transforming numbers to colours according to a scale decided by matplotlib itself."
      ]
    },
    {
      "cell_type": "markdown",
      "metadata": {
        "id": "ZId925UST4Py",
        "colab_type": "text"
      },
      "source": [
        "Observations:  \n",
        "*  Most emergency calls are observed to take place between 7 AM and 7 PM.  \n",
        "*  The peak is observed during 17 hours (5PM). The reason \"could\" be that the office hours ends at 5PM, thus leading to rush hour (peak/heavy traffic period).\n",
        "*  The number of calls during the early hours are extremely few, when compared to the other parts of the day.  \n",
        "*  As was earlier noted, the calls are lesser during the weekends, Saturday and Sunday."
      ]
    },
    {
      "cell_type": "code",
      "metadata": {
        "id": "skTGa2aFxqxB",
        "colab_type": "code",
        "outputId": "f52230f5-54bc-497d-cc2e-e121b1120052",
        "colab": {
          "base_uri": "https://localhost:8080/",
          "height": 747
        }
      },
      "source": [
        "sns.clustermap(dayVSHour, cmap = \"viridis\")"
      ],
      "execution_count": 70,
      "outputs": [
        {
          "output_type": "execute_result",
          "data": {
            "text/plain": [
              "<seaborn.matrix.ClusterGrid at 0x7f1186d8b0b8>"
            ]
          },
          "metadata": {
            "tags": []
          },
          "execution_count": 70
        },
        {
          "output_type": "display_data",
          "data": {
            "image/png": "[encoded data removed]",
            "text/plain": [
              "<Figure size 720x720 with 4 Axes>"
            ]
          },
          "metadata": {
            "tags": [],
            "needs_background": "light"
          }
        }
      ]
    },
    {
      "cell_type": "code",
      "metadata": {
        "id": "YMcvtVJTxzId",
        "colab_type": "code",
        "outputId": "2f5c45b7-bff9-44e8-a5e8-6803de9038eb",
        "colab": {
          "base_uri": "https://localhost:8080/",
          "height": 237
        }
      },
      "source": [
        "dayVSMonth = df.groupby(by=[\"dayOfWeek\", \"month\"]).count()[\"reason\"].unstack()\n",
        "dayVSMonth.head()"
      ],
      "execution_count": 71,
      "outputs": [
        {
          "output_type": "execute_result",
          "data": {
            "text/html": [
              "<div>\n",
              "<style scoped>\n",
              "    .dataframe tbody tr th:only-of-type {\n",
              "        vertical-align: middle;\n",
              "    }\n",
              "\n",
              "    .dataframe tbody tr th {\n",
              "        vertical-align: top;\n",
              "    }\n",
              "\n",
              "    .dataframe thead th {\n",
              "        text-align: right;\n",
              "    }\n",
              "</style>\n",
              "<table border=\"1\" class=\"dataframe\">\n",
              "  <thead>\n",
              "    <tr style=\"text-align: right;\">\n",
              "      <th>month</th>\n",
              "      <th>1</th>\n",
              "      <th>2</th>\n",
              "      <th>3</th>\n",
              "      <th>4</th>\n",
              "      <th>5</th>\n",
              "      <th>6</th>\n",
              "      <th>7</th>\n",
              "      <th>8</th>\n",
              "      <th>12</th>\n",
              "    </tr>\n",
              "    <tr>\n",
              "      <th>dayOfWeek</th>\n",
              "      <th></th>\n",
              "      <th></th>\n",
              "      <th></th>\n",
              "      <th></th>\n",
              "      <th></th>\n",
              "      <th></th>\n",
              "      <th></th>\n",
              "      <th></th>\n",
              "      <th></th>\n",
              "    </tr>\n",
              "  </thead>\n",
              "  <tbody>\n",
              "    <tr>\n",
              "      <th>Fri</th>\n",
              "      <td>1970</td>\n",
              "      <td>1581</td>\n",
              "      <td>1525</td>\n",
              "      <td>1958</td>\n",
              "      <td>1730</td>\n",
              "      <td>1649</td>\n",
              "      <td>2045</td>\n",
              "      <td>1310</td>\n",
              "      <td>1065</td>\n",
              "    </tr>\n",
              "    <tr>\n",
              "      <th>Mon</th>\n",
              "      <td>1727</td>\n",
              "      <td>1964</td>\n",
              "      <td>1535</td>\n",
              "      <td>1598</td>\n",
              "      <td>1779</td>\n",
              "      <td>1617</td>\n",
              "      <td>1692</td>\n",
              "      <td>1511</td>\n",
              "      <td>1257</td>\n",
              "    </tr>\n",
              "    <tr>\n",
              "      <th>Sat</th>\n",
              "      <td>2291</td>\n",
              "      <td>1441</td>\n",
              "      <td>1266</td>\n",
              "      <td>1734</td>\n",
              "      <td>1444</td>\n",
              "      <td>1388</td>\n",
              "      <td>1695</td>\n",
              "      <td>1099</td>\n",
              "      <td>978</td>\n",
              "    </tr>\n",
              "    <tr>\n",
              "      <th>Sun</th>\n",
              "      <td>1960</td>\n",
              "      <td>1229</td>\n",
              "      <td>1102</td>\n",
              "      <td>1488</td>\n",
              "      <td>1424</td>\n",
              "      <td>1333</td>\n",
              "      <td>1672</td>\n",
              "      <td>1021</td>\n",
              "      <td>907</td>\n",
              "    </tr>\n",
              "    <tr>\n",
              "      <th>Thu</th>\n",
              "      <td>1584</td>\n",
              "      <td>1596</td>\n",
              "      <td>1900</td>\n",
              "      <td>1601</td>\n",
              "      <td>1590</td>\n",
              "      <td>2065</td>\n",
              "      <td>1646</td>\n",
              "      <td>1230</td>\n",
              "      <td>1266</td>\n",
              "    </tr>\n",
              "  </tbody>\n",
              "</table>\n",
              "</div>"
            ],
            "text/plain": [
              "month        1     2     3     4     5     6     7     8     12\n",
              "dayOfWeek                                                      \n",
              "Fri        1970  1581  1525  1958  1730  1649  2045  1310  1065\n",
              "Mon        1727  1964  1535  1598  1779  1617  1692  1511  1257\n",
              "Sat        2291  1441  1266  1734  1444  1388  1695  1099   978\n",
              "Sun        1960  1229  1102  1488  1424  1333  1672  1021   907\n",
              "Thu        1584  1596  1900  1601  1590  2065  1646  1230  1266"
            ]
          },
          "metadata": {
            "tags": []
          },
          "execution_count": 71
        }
      ]
    },
    {
      "cell_type": "code",
      "metadata": {
        "id": "qD8GuQQtx-sZ",
        "colab_type": "code",
        "outputId": "4d900d2f-e862-4617-b1ff-a3e296c1fd69",
        "colab": {
          "base_uri": "https://localhost:8080/",
          "height": 406
        }
      },
      "source": [
        "plt.figure(figsize = (12, 6))\n",
        "sns.heatmap(dayVSMonth, cmap = 'viridis')"
      ],
      "execution_count": 72,
      "outputs": [
        {
          "output_type": "execute_result",
          "data": {
            "text/plain": [
              "<matplotlib.axes._subplots.AxesSubplot at 0x7f118b7f0d68>"
            ]
          },
          "metadata": {
            "tags": []
          },
          "execution_count": 72
        },
        {
          "output_type": "display_data",
          "data": {
            "image/png": "[encoded data removed]",
            "text/plain": [
              "<Figure size 864x432 with 2 Axes>"
            ]
          },
          "metadata": {
            "tags": [],
            "needs_background": "light"
          }
        }
      ]
    },
    {
      "cell_type": "markdown",
      "metadata": {
        "id": "-hWEXJ1aVxGE",
        "colab_type": "text"
      },
      "source": [
        "**Highest cases, as observed earlier are during January. Especially during Saturday (though earlier we had noted fewer cases during weekends). What is the reason behind this? (Analysis below)**"
      ]
    },
    {
      "cell_type": "code",
      "metadata": {
        "id": "4D89rvXOyE7u",
        "colab_type": "code",
        "outputId": "804c4afe-98e0-459b-9e0a-4fc2743a3b9f",
        "colab": {
          "base_uri": "https://localhost:8080/",
          "height": 747
        }
      },
      "source": [
        "sns.clustermap(dayVSMonth, cmap = \"viridis\")"
      ],
      "execution_count": 73,
      "outputs": [
        {
          "output_type": "execute_result",
          "data": {
            "text/plain": [
              "<seaborn.matrix.ClusterGrid at 0x7f1185529e48>"
            ]
          },
          "metadata": {
            "tags": []
          },
          "execution_count": 73
        },
        {
          "output_type": "display_data",
          "data": {
            "image/png": "[encoded data removed]",
            "text/plain": [
              "<Figure size 720x720 with 4 Axes>"
            ]
          },
          "metadata": {
            "tags": [],
            "needs_background": "light"
          }
        }
      ]
    },
    {
      "cell_type": "markdown",
      "metadata": {
        "id": "9Z_5l0v-WlaG",
        "colab_type": "text"
      },
      "source": [
        "### Reason for maximum calls in January, 2016"
      ]
    },
    {
      "cell_type": "code",
      "metadata": {
        "id": "VE5DhIZeWmIL",
        "colab_type": "code",
        "colab": {
          "base_uri": "https://localhost:8080/",
          "height": 521
        },
        "outputId": "35295848-8f4a-4db2-e8b1-15decf872a2a"
      },
      "source": [
        "df.head()"
      ],
      "execution_count": 74,
      "outputs": [
        {
          "output_type": "execute_result",
          "data": {
            "text/html": [
              "<div>\n",
              "<style scoped>\n",
              "    .dataframe tbody tr th:only-of-type {\n",
              "        vertical-align: middle;\n",
              "    }\n",
              "\n",
              "    .dataframe tbody tr th {\n",
              "        vertical-align: top;\n",
              "    }\n",
              "\n",
              "    .dataframe thead th {\n",
              "        text-align: right;\n",
              "    }\n",
              "</style>\n",
              "<table border=\"1\" class=\"dataframe\">\n",
              "  <thead>\n",
              "    <tr style=\"text-align: right;\">\n",
              "      <th></th>\n",
              "      <th>lat</th>\n",
              "      <th>lng</th>\n",
              "      <th>desc</th>\n",
              "      <th>zip</th>\n",
              "      <th>title</th>\n",
              "      <th>timeStamp</th>\n",
              "      <th>twp</th>\n",
              "      <th>addr</th>\n",
              "      <th>e</th>\n",
              "      <th>reason</th>\n",
              "      <th>dayOfWeek</th>\n",
              "      <th>month</th>\n",
              "      <th>hour</th>\n",
              "      <th>date</th>\n",
              "    </tr>\n",
              "  </thead>\n",
              "  <tbody>\n",
              "    <tr>\n",
              "      <th>0</th>\n",
              "      <td>40.297876</td>\n",
              "      <td>-75.581294</td>\n",
              "      <td>REINDEER CT &amp; DEAD END;  NEW HANOVER; Station ...</td>\n",
              "      <td>19525.0</td>\n",
              "      <td>EMS: BACK PAINS/INJURY</td>\n",
              "      <td>2015-12-10 17:40:00</td>\n",
              "      <td>NEW HANOVER</td>\n",
              "      <td>REINDEER CT &amp; DEAD END</td>\n",
              "      <td>1</td>\n",
              "      <td>EMS</td>\n",
              "      <td>Thu</td>\n",
              "      <td>12</td>\n",
              "      <td>17</td>\n",
              "      <td>2015-12-10</td>\n",
              "    </tr>\n",
              "    <tr>\n",
              "      <th>1</th>\n",
              "      <td>40.258061</td>\n",
              "      <td>-75.264680</td>\n",
              "      <td>BRIAR PATH &amp; WHITEMARSH LN;  HATFIELD TOWNSHIP...</td>\n",
              "      <td>19446.0</td>\n",
              "      <td>EMS: DIABETIC EMERGENCY</td>\n",
              "      <td>2015-12-10 17:40:00</td>\n",
              "      <td>HATFIELD TOWNSHIP</td>\n",
              "      <td>BRIAR PATH &amp; WHITEMARSH LN</td>\n",
              "      <td>1</td>\n",
              "      <td>EMS</td>\n",
              "      <td>Thu</td>\n",
              "      <td>12</td>\n",
              "      <td>17</td>\n",
              "      <td>2015-12-10</td>\n",
              "    </tr>\n",
              "    <tr>\n",
              "      <th>2</th>\n",
              "      <td>40.121182</td>\n",
              "      <td>-75.351975</td>\n",
              "      <td>HAWS AVE; NORRISTOWN; 2015-12-10 @ 14:39:21-St...</td>\n",
              "      <td>19401.0</td>\n",
              "      <td>Fire: GAS-ODOR/LEAK</td>\n",
              "      <td>2015-12-10 17:40:00</td>\n",
              "      <td>NORRISTOWN</td>\n",
              "      <td>HAWS AVE</td>\n",
              "      <td>1</td>\n",
              "      <td>Fire</td>\n",
              "      <td>Thu</td>\n",
              "      <td>12</td>\n",
              "      <td>17</td>\n",
              "      <td>2015-12-10</td>\n",
              "    </tr>\n",
              "    <tr>\n",
              "      <th>3</th>\n",
              "      <td>40.116153</td>\n",
              "      <td>-75.343513</td>\n",
              "      <td>AIRY ST &amp; SWEDE ST;  NORRISTOWN; Station 308A;...</td>\n",
              "      <td>19401.0</td>\n",
              "      <td>EMS: CARDIAC EMERGENCY</td>\n",
              "      <td>2015-12-10 17:40:01</td>\n",
              "      <td>NORRISTOWN</td>\n",
              "      <td>AIRY ST &amp; SWEDE ST</td>\n",
              "      <td>1</td>\n",
              "      <td>EMS</td>\n",
              "      <td>Thu</td>\n",
              "      <td>12</td>\n",
              "      <td>17</td>\n",
              "      <td>2015-12-10</td>\n",
              "    </tr>\n",
              "    <tr>\n",
              "      <th>4</th>\n",
              "      <td>40.251492</td>\n",
              "      <td>-75.603350</td>\n",
              "      <td>CHERRYWOOD CT &amp; DEAD END;  LOWER POTTSGROVE; S...</td>\n",
              "      <td>NaN</td>\n",
              "      <td>EMS: DIZZINESS</td>\n",
              "      <td>2015-12-10 17:40:01</td>\n",
              "      <td>LOWER POTTSGROVE</td>\n",
              "      <td>CHERRYWOOD CT &amp; DEAD END</td>\n",
              "      <td>1</td>\n",
              "      <td>EMS</td>\n",
              "      <td>Thu</td>\n",
              "      <td>12</td>\n",
              "      <td>17</td>\n",
              "      <td>2015-12-10</td>\n",
              "    </tr>\n",
              "  </tbody>\n",
              "</table>\n",
              "</div>"
            ],
            "text/plain": [
              "         lat        lng  ... hour        date\n",
              "0  40.297876 -75.581294  ...   17  2015-12-10\n",
              "1  40.258061 -75.264680  ...   17  2015-12-10\n",
              "2  40.121182 -75.351975  ...   17  2015-12-10\n",
              "3  40.116153 -75.343513  ...   17  2015-12-10\n",
              "4  40.251492 -75.603350  ...   17  2015-12-10\n",
              "\n",
              "[5 rows x 14 columns]"
            ]
          },
          "metadata": {
            "tags": []
          },
          "execution_count": 74
        }
      ]
    },
    {
      "cell_type": "code",
      "metadata": {
        "id": "0QhCYdJVXZin",
        "colab_type": "code",
        "colab": {
          "base_uri": "https://localhost:8080/",
          "height": 235
        },
        "outputId": "113f3f19-fa05-44cc-8b51-ec939cc64386"
      },
      "source": [
        "df[\"timeStamp\"]"
      ],
      "execution_count": 78,
      "outputs": [
        {
          "output_type": "execute_result",
          "data": {
            "text/plain": [
              "0       2015-12-10 17:40:00\n",
              "1       2015-12-10 17:40:00\n",
              "2       2015-12-10 17:40:00\n",
              "3       2015-12-10 17:40:01\n",
              "4       2015-12-10 17:40:01\n",
              "                ...        \n",
              "99487   2016-08-24 11:06:00\n",
              "99488   2016-08-24 11:07:02\n",
              "99489   2016-08-24 11:12:00\n",
              "99490   2016-08-24 11:17:01\n",
              "99491   2016-08-24 11:17:02\n",
              "Name: timeStamp, Length: 99492, dtype: datetime64[ns]"
            ]
          },
          "metadata": {
            "tags": []
          },
          "execution_count": 78
        }
      ]
    },
    {
      "cell_type": "code",
      "metadata": {
        "id": "dx-AKoyQXmVs",
        "colab_type": "code",
        "colab": {
          "base_uri": "https://localhost:8080/",
          "height": 308
        },
        "outputId": "61b0684f-527c-4e87-cb0c-2025e6ee8828"
      },
      "source": [
        "df[df[\"month\"] == 1][\"date\"].value_counts().head(15)"
      ],
      "execution_count": 169,
      "outputs": [
        {
          "output_type": "execute_result",
          "data": {
            "text/plain": [
              "2016-01-23    913\n",
              "2016-01-24    662\n",
              "2016-01-12    588\n",
              "2016-01-25    575\n",
              "2016-01-26    505\n",
              "2016-01-22    486\n",
              "2016-01-05    448\n",
              "2016-01-27    441\n",
              "2016-01-15    440\n",
              "2016-01-28    436\n",
              "2016-01-06    434\n",
              "2016-01-19    432\n",
              "2016-01-13    430\n",
              "2016-01-29    422\n",
              "2016-01-11    417\n",
              "Name: date, dtype: int64"
            ]
          },
          "metadata": {
            "tags": []
          },
          "execution_count": 169
        }
      ]
    },
    {
      "cell_type": "markdown",
      "metadata": {
        "id": "gNQNBrRFrDKG",
        "colab_type": "text"
      },
      "source": [
        "Note really large number of calls on the 23rd followed by 24th."
      ]
    },
    {
      "cell_type": "code",
      "metadata": {
        "id": "btLj3icJZhc-",
        "colab_type": "code",
        "colab": {}
      },
      "source": [
        "from datetime import datetime # not required"
      ],
      "execution_count": 0,
      "outputs": []
    },
    {
      "cell_type": "code",
      "metadata": {
        "id": "tt2FziAjYKT3",
        "colab_type": "code",
        "colab": {}
      },
      "source": [
        "t1 = datetime.strptime('2016-Jan-23', \"%Y-%b-%d\") # not required\n",
        "df[df[df[\"month\"==1][\"date\"]==t1]]"
      ],
      "execution_count": 0,
      "outputs": []
    },
    {
      "cell_type": "code",
      "metadata": {
        "id": "TU1XbBG3arbG",
        "colab_type": "code",
        "colab": {}
      },
      "source": [
        "def findDateDigit(x):\n",
        "  return int(str(x).split(\"-\")[2]) # Remember to convert to int!!\n",
        "# All the other methods (.month, .hour) of date-time object converted result to int (saw using dtype)"
      ],
      "execution_count": 0,
      "outputs": []
    },
    {
      "cell_type": "code",
      "metadata": {
        "id": "GeR7XaZVYuiX",
        "colab_type": "code",
        "colab": {}
      },
      "source": [
        "df[\"date-digit\"] = df[\"date\"].apply(findDateDigit)"
      ],
      "execution_count": 0,
      "outputs": []
    },
    {
      "cell_type": "code",
      "metadata": {
        "id": "YLV9RBeGaz3i",
        "colab_type": "code",
        "colab": {
          "base_uri": "https://localhost:8080/",
          "height": 556
        },
        "outputId": "fc66cfbb-3e46-4401-acc9-f04436eef9b7"
      },
      "source": [
        "df.tail()"
      ],
      "execution_count": 130,
      "outputs": [
        {
          "output_type": "execute_result",
          "data": {
            "text/html": [
              "<div>\n",
              "<style scoped>\n",
              "    .dataframe tbody tr th:only-of-type {\n",
              "        vertical-align: middle;\n",
              "    }\n",
              "\n",
              "    .dataframe tbody tr th {\n",
              "        vertical-align: top;\n",
              "    }\n",
              "\n",
              "    .dataframe thead th {\n",
              "        text-align: right;\n",
              "    }\n",
              "</style>\n",
              "<table border=\"1\" class=\"dataframe\">\n",
              "  <thead>\n",
              "    <tr style=\"text-align: right;\">\n",
              "      <th></th>\n",
              "      <th>lat</th>\n",
              "      <th>lng</th>\n",
              "      <th>desc</th>\n",
              "      <th>zip</th>\n",
              "      <th>title</th>\n",
              "      <th>timeStamp</th>\n",
              "      <th>twp</th>\n",
              "      <th>addr</th>\n",
              "      <th>e</th>\n",
              "      <th>reason</th>\n",
              "      <th>dayOfWeek</th>\n",
              "      <th>month</th>\n",
              "      <th>hour</th>\n",
              "      <th>date</th>\n",
              "      <th>date-digit</th>\n",
              "    </tr>\n",
              "  </thead>\n",
              "  <tbody>\n",
              "    <tr>\n",
              "      <th>99487</th>\n",
              "      <td>40.132869</td>\n",
              "      <td>-75.333515</td>\n",
              "      <td>MARKLEY ST &amp; W LOGAN ST; NORRISTOWN; 2016-08-2...</td>\n",
              "      <td>19401.0</td>\n",
              "      <td>Traffic: VEHICLE ACCIDENT -</td>\n",
              "      <td>2016-08-24 11:06:00</td>\n",
              "      <td>NORRISTOWN</td>\n",
              "      <td>MARKLEY ST &amp; W LOGAN ST</td>\n",
              "      <td>1</td>\n",
              "      <td>Traffic</td>\n",
              "      <td>Wed</td>\n",
              "      <td>8</td>\n",
              "      <td>11</td>\n",
              "      <td>2016-08-24</td>\n",
              "      <td>24</td>\n",
              "    </tr>\n",
              "    <tr>\n",
              "      <th>99488</th>\n",
              "      <td>40.006974</td>\n",
              "      <td>-75.289080</td>\n",
              "      <td>LANCASTER AVE &amp; RITTENHOUSE PL; LOWER MERION; ...</td>\n",
              "      <td>19003.0</td>\n",
              "      <td>Traffic: VEHICLE ACCIDENT -</td>\n",
              "      <td>2016-08-24 11:07:02</td>\n",
              "      <td>LOWER MERION</td>\n",
              "      <td>LANCASTER AVE &amp; RITTENHOUSE PL</td>\n",
              "      <td>1</td>\n",
              "      <td>Traffic</td>\n",
              "      <td>Wed</td>\n",
              "      <td>8</td>\n",
              "      <td>11</td>\n",
              "      <td>2016-08-24</td>\n",
              "      <td>24</td>\n",
              "    </tr>\n",
              "    <tr>\n",
              "      <th>99489</th>\n",
              "      <td>40.115429</td>\n",
              "      <td>-75.334679</td>\n",
              "      <td>CHESTNUT ST &amp; WALNUT ST;  NORRISTOWN; Station ...</td>\n",
              "      <td>19401.0</td>\n",
              "      <td>EMS: FALL VICTIM</td>\n",
              "      <td>2016-08-24 11:12:00</td>\n",
              "      <td>NORRISTOWN</td>\n",
              "      <td>CHESTNUT ST &amp; WALNUT ST</td>\n",
              "      <td>1</td>\n",
              "      <td>EMS</td>\n",
              "      <td>Wed</td>\n",
              "      <td>8</td>\n",
              "      <td>11</td>\n",
              "      <td>2016-08-24</td>\n",
              "      <td>24</td>\n",
              "    </tr>\n",
              "    <tr>\n",
              "      <th>99490</th>\n",
              "      <td>40.186431</td>\n",
              "      <td>-75.192555</td>\n",
              "      <td>WELSH RD &amp; WEBSTER LN;  HORSHAM; Station 352; ...</td>\n",
              "      <td>19002.0</td>\n",
              "      <td>EMS: NAUSEA/VOMITING</td>\n",
              "      <td>2016-08-24 11:17:01</td>\n",
              "      <td>HORSHAM</td>\n",
              "      <td>WELSH RD &amp; WEBSTER LN</td>\n",
              "      <td>1</td>\n",
              "      <td>EMS</td>\n",
              "      <td>Wed</td>\n",
              "      <td>8</td>\n",
              "      <td>11</td>\n",
              "      <td>2016-08-24</td>\n",
              "      <td>24</td>\n",
              "    </tr>\n",
              "    <tr>\n",
              "      <th>99491</th>\n",
              "      <td>40.207055</td>\n",
              "      <td>-75.317952</td>\n",
              "      <td>MORRIS RD &amp; S BROAD ST; UPPER GWYNEDD; 2016-08...</td>\n",
              "      <td>19446.0</td>\n",
              "      <td>Traffic: VEHICLE ACCIDENT -</td>\n",
              "      <td>2016-08-24 11:17:02</td>\n",
              "      <td>UPPER GWYNEDD</td>\n",
              "      <td>MORRIS RD &amp; S BROAD ST</td>\n",
              "      <td>1</td>\n",
              "      <td>Traffic</td>\n",
              "      <td>Wed</td>\n",
              "      <td>8</td>\n",
              "      <td>11</td>\n",
              "      <td>2016-08-24</td>\n",
              "      <td>24</td>\n",
              "    </tr>\n",
              "  </tbody>\n",
              "</table>\n",
              "</div>"
            ],
            "text/plain": [
              "             lat        lng  ...        date  date-digit\n",
              "99487  40.132869 -75.333515  ...  2016-08-24          24\n",
              "99488  40.006974 -75.289080  ...  2016-08-24          24\n",
              "99489  40.115429 -75.334679  ...  2016-08-24          24\n",
              "99490  40.186431 -75.192555  ...  2016-08-24          24\n",
              "99491  40.207055 -75.317952  ...  2016-08-24          24\n",
              "\n",
              "[5 rows x 15 columns]"
            ]
          },
          "metadata": {
            "tags": []
          },
          "execution_count": 130
        }
      ]
    },
    {
      "cell_type": "code",
      "metadata": {
        "id": "yZETLRQAeQ5x",
        "colab_type": "code",
        "colab": {
          "base_uri": "https://localhost:8080/",
          "height": 35
        },
        "outputId": "01496948-179f-42f3-9bb2-2657cdb1ce21"
      },
      "source": [
        "df[\"date-digit\"].dtype\n",
        "# earlier, before converting (forgot) to int, was dtype('O')"
      ],
      "execution_count": 131,
      "outputs": [
        {
          "output_type": "execute_result",
          "data": {
            "text/plain": [
              "dtype('int64')"
            ]
          },
          "metadata": {
            "tags": []
          },
          "execution_count": 131
        }
      ]
    },
    {
      "cell_type": "code",
      "metadata": {
        "id": "ITlirStCa5J-",
        "colab_type": "code",
        "colab": {}
      },
      "source": [
        "Jan23DF = df[(df[\"month\"]==1) & (df[\"date-digit\"]==23)]"
      ],
      "execution_count": 0,
      "outputs": []
    },
    {
      "cell_type": "code",
      "metadata": {
        "id": "zNoukPFObzqU",
        "colab_type": "code",
        "colab": {
          "base_uri": "https://localhost:8080/",
          "height": 556
        },
        "outputId": "490dd5f1-6a59-4e5d-cf99-3ce87833c1b3"
      },
      "source": [
        "Jan23DF.head()"
      ],
      "execution_count": 136,
      "outputs": [
        {
          "output_type": "execute_result",
          "data": {
            "text/html": [
              "<div>\n",
              "<style scoped>\n",
              "    .dataframe tbody tr th:only-of-type {\n",
              "        vertical-align: middle;\n",
              "    }\n",
              "\n",
              "    .dataframe tbody tr th {\n",
              "        vertical-align: top;\n",
              "    }\n",
              "\n",
              "    .dataframe thead th {\n",
              "        text-align: right;\n",
              "    }\n",
              "</style>\n",
              "<table border=\"1\" class=\"dataframe\">\n",
              "  <thead>\n",
              "    <tr style=\"text-align: right;\">\n",
              "      <th></th>\n",
              "      <th>lat</th>\n",
              "      <th>lng</th>\n",
              "      <th>desc</th>\n",
              "      <th>zip</th>\n",
              "      <th>title</th>\n",
              "      <th>timeStamp</th>\n",
              "      <th>twp</th>\n",
              "      <th>addr</th>\n",
              "      <th>e</th>\n",
              "      <th>reason</th>\n",
              "      <th>dayOfWeek</th>\n",
              "      <th>month</th>\n",
              "      <th>hour</th>\n",
              "      <th>date</th>\n",
              "      <th>date-digit</th>\n",
              "    </tr>\n",
              "  </thead>\n",
              "  <tbody>\n",
              "    <tr>\n",
              "      <th>16586</th>\n",
              "      <td>40.121497</td>\n",
              "      <td>-75.339905</td>\n",
              "      <td>; NORRISTOWN; 2016-01-23 @ 00:00:20;</td>\n",
              "      <td>NaN</td>\n",
              "      <td>Traffic: DISABLED VEHICLE -</td>\n",
              "      <td>2016-01-23 00:02:00</td>\n",
              "      <td>NORRISTOWN</td>\n",
              "      <td>NaN</td>\n",
              "      <td>1</td>\n",
              "      <td>Traffic</td>\n",
              "      <td>Sat</td>\n",
              "      <td>1</td>\n",
              "      <td>0</td>\n",
              "      <td>2016-01-23</td>\n",
              "      <td>23</td>\n",
              "    </tr>\n",
              "    <tr>\n",
              "      <th>16587</th>\n",
              "      <td>40.129538</td>\n",
              "      <td>-75.324636</td>\n",
              "      <td>E JOHNSON HWY &amp; DEKALB PIKE; EAST NORRITON; 20...</td>\n",
              "      <td>19401.0</td>\n",
              "      <td>Traffic: DISABLED VEHICLE -</td>\n",
              "      <td>2016-01-23 00:07:00</td>\n",
              "      <td>EAST NORRITON</td>\n",
              "      <td>E JOHNSON HWY &amp; DEKALB PIKE</td>\n",
              "      <td>1</td>\n",
              "      <td>Traffic</td>\n",
              "      <td>Sat</td>\n",
              "      <td>1</td>\n",
              "      <td>0</td>\n",
              "      <td>2016-01-23</td>\n",
              "      <td>23</td>\n",
              "    </tr>\n",
              "    <tr>\n",
              "      <th>16588</th>\n",
              "      <td>40.161740</td>\n",
              "      <td>-75.123821</td>\n",
              "      <td>EASTON RD &amp; MARYLAND RD; UPPER MORELAND; 2016-...</td>\n",
              "      <td>19090.0</td>\n",
              "      <td>Traffic: DISABLED VEHICLE -</td>\n",
              "      <td>2016-01-23 00:07:01</td>\n",
              "      <td>UPPER MORELAND</td>\n",
              "      <td>EASTON RD &amp; MARYLAND RD</td>\n",
              "      <td>1</td>\n",
              "      <td>Traffic</td>\n",
              "      <td>Sat</td>\n",
              "      <td>1</td>\n",
              "      <td>0</td>\n",
              "      <td>2016-01-23</td>\n",
              "      <td>23</td>\n",
              "    </tr>\n",
              "    <tr>\n",
              "      <th>16589</th>\n",
              "      <td>40.191353</td>\n",
              "      <td>-75.454847</td>\n",
              "      <td>MAIN CAMPUS DR &amp; E 5TH AVE;  COLLEGEVILLE; Sta...</td>\n",
              "      <td>19426.0</td>\n",
              "      <td>EMS: OVERDOSE</td>\n",
              "      <td>2016-01-23 00:12:01</td>\n",
              "      <td>COLLEGEVILLE</td>\n",
              "      <td>MAIN CAMPUS DR &amp; E 5TH AVE</td>\n",
              "      <td>1</td>\n",
              "      <td>EMS</td>\n",
              "      <td>Sat</td>\n",
              "      <td>1</td>\n",
              "      <td>0</td>\n",
              "      <td>2016-01-23</td>\n",
              "      <td>23</td>\n",
              "    </tr>\n",
              "    <tr>\n",
              "      <th>16590</th>\n",
              "      <td>40.087617</td>\n",
              "      <td>-75.261961</td>\n",
              "      <td>RIDGE PIKE &amp; MULBERRY LN; WHITEMARSH; 2016-01-...</td>\n",
              "      <td>19444.0</td>\n",
              "      <td>Traffic: DISABLED VEHICLE -</td>\n",
              "      <td>2016-01-23 00:12:01</td>\n",
              "      <td>WHITEMARSH</td>\n",
              "      <td>RIDGE PIKE &amp; MULBERRY LN</td>\n",
              "      <td>1</td>\n",
              "      <td>Traffic</td>\n",
              "      <td>Sat</td>\n",
              "      <td>1</td>\n",
              "      <td>0</td>\n",
              "      <td>2016-01-23</td>\n",
              "      <td>23</td>\n",
              "    </tr>\n",
              "  </tbody>\n",
              "</table>\n",
              "</div>"
            ],
            "text/plain": [
              "             lat        lng  ...        date  date-digit\n",
              "16586  40.121497 -75.339905  ...  2016-01-23          23\n",
              "16587  40.129538 -75.324636  ...  2016-01-23          23\n",
              "16588  40.161740 -75.123821  ...  2016-01-23          23\n",
              "16589  40.191353 -75.454847  ...  2016-01-23          23\n",
              "16590  40.087617 -75.261961  ...  2016-01-23          23\n",
              "\n",
              "[5 rows x 15 columns]"
            ]
          },
          "metadata": {
            "tags": []
          },
          "execution_count": 136
        }
      ]
    },
    {
      "cell_type": "code",
      "metadata": {
        "id": "K0OI_GGybRpc",
        "colab_type": "code",
        "colab": {
          "base_uri": "https://localhost:8080/",
          "height": 126
        },
        "outputId": "6dd1aec9-4f5d-4bf2-97c0-a11fd5e1c8ab"
      },
      "source": [
        "Jan23DF[\"twp\"].value_counts().head(5)"
      ],
      "execution_count": 141,
      "outputs": [
        {
          "output_type": "execute_result",
          "data": {
            "text/plain": [
              "NORRISTOWN      61\n",
              "LOWER MERION    56\n",
              "ABINGTON        52\n",
              "UPPER MERION    49\n",
              "HORSHAM         49\n",
              "Name: twp, dtype: int64"
            ]
          },
          "metadata": {
            "tags": []
          },
          "execution_count": 141
        }
      ]
    },
    {
      "cell_type": "markdown",
      "metadata": {
        "id": "DWjzPQYcigmf",
        "colab_type": "text"
      },
      "source": [
        "**All these townships are located in Pennsylvania, US (PA)**"
      ]
    },
    {
      "cell_type": "code",
      "metadata": {
        "id": "6GNqb_Qwbv8j",
        "colab_type": "code",
        "colab": {
          "base_uri": "https://localhost:8080/",
          "height": 90
        },
        "outputId": "00d8fa12-6488-49f8-fe41-ad9bbbeb1669"
      },
      "source": [
        "Jan23DF[\"reason\"].value_counts()"
      ],
      "execution_count": 140,
      "outputs": [
        {
          "output_type": "execute_result",
          "data": {
            "text/plain": [
              "Traffic    557\n",
              "EMS        197\n",
              "Fire       159\n",
              "Name: reason, dtype: int64"
            ]
          },
          "metadata": {
            "tags": []
          },
          "execution_count": 140
        }
      ]
    },
    {
      "cell_type": "code",
      "metadata": {
        "id": "HzdkWXTegkF7",
        "colab_type": "code",
        "colab": {
          "base_uri": "https://localhost:8080/",
          "height": 162
        },
        "outputId": "3b51890b-148e-488e-8810-191e6c8e1dc8"
      },
      "source": [
        "Jan23DF[\"hour\"].value_counts().head(7)"
      ],
      "execution_count": 149,
      "outputs": [
        {
          "output_type": "execute_result",
          "data": {
            "text/plain": [
              "16    74\n",
              "17    61\n",
              "11    54\n",
              "18    53\n",
              "15    52\n",
              "7     51\n",
              "19    48\n",
              "Name: hour, dtype: int64"
            ]
          },
          "metadata": {
            "tags": []
          },
          "execution_count": 149
        }
      ]
    },
    {
      "cell_type": "markdown",
      "metadata": {
        "id": "OMWpor_ghWBq",
        "colab_type": "text"
      },
      "source": [
        "*  Most of the traffic observed during the January of 2016 is mostly on the 23rd and 24th.\n",
        "*  Highest cases are related to traffic during this time.\n",
        "*  The time at which the maximum calls are observed is: 3 to 7 PM"
      ]
    },
    {
      "cell_type": "code",
      "metadata": {
        "id": "Mq_tb14mfl9T",
        "colab_type": "code",
        "colab": {
          "base_uri": "https://localhost:8080/",
          "height": 35
        },
        "outputId": "b304ad31-1f67-422f-c8a6-81958531b854"
      },
      "source": [
        "Jan23DF[\"desc\"].iloc[3]"
      ],
      "execution_count": 145,
      "outputs": [
        {
          "output_type": "execute_result",
          "data": {
            "text/plain": [
              "'MAIN CAMPUS DR & E 5TH AVE;  COLLEGEVILLE; Station 324; 2016-01-23 @ 00:06:58;'"
            ]
          },
          "metadata": {
            "tags": []
          },
          "execution_count": 145
        }
      ]
    },
    {
      "cell_type": "code",
      "metadata": {
        "id": "EELrzIq-gSse",
        "colab_type": "code",
        "colab": {}
      },
      "source": [
        ""
      ],
      "execution_count": 0,
      "outputs": []
    },
    {
      "cell_type": "markdown",
      "metadata": {
        "id": "EtNOCRuvnKCX",
        "colab_type": "text"
      },
      "source": [
        "**From all the above observations, and a bit of research as to what happened on the 23 and 24th of January 2016 in Pennsylvania, I found these two articles:**  \n",
        "**1.  https://edition.cnn.com/2016/01/23/us/kentucky-i75-snow-stranded-motorists/index.html**  \n",
        "**2.  https://www.post-gazette.com/local/2016/01/23/Snow-slowing-down-but-roads-remain-difficult-to-travel/stories/201601230116**  \n",
        "**where extremely bad weather and storms were cited as the reason for the unusual surge in the number of calls on these 2 days.**"
      ]
    },
    {
      "cell_type": "code",
      "metadata": {
        "id": "CCgUDfRKnXK9",
        "colab_type": "code",
        "colab": {}
      },
      "source": [
        ""
      ],
      "execution_count": 0,
      "outputs": []
    }
  ]
}